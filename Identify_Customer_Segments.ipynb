{
 "cells": [
  {
   "cell_type": "markdown",
   "metadata": {},
   "source": [
    "# Project: Identify Customer Segments\n",
    "\n",
    "In this project, you will apply unsupervised learning techniques to identify segments of the population that form the core customer base for a mail-order sales company in Germany. These segments can then be used to direct marketing campaigns towards audiences that will have the highest expected rate of returns. The data that you will use has been provided by our partners at Bertelsmann Arvato Analytics, and represents a real-life data science task.\n",
    "\n",
    "This notebook will help you complete this task by providing a framework within which you will perform your analysis steps. In each step of the project, you will see some text describing the subtask that you will perform, followed by one or more code cells for you to complete your work. **Feel free to add additional code and markdown cells as you go along so that you can explore everything in precise chunks.** The code cells provided in the base template will outline only the major tasks, and will usually not be enough to cover all of the minor tasks that comprise it.\n",
    "\n",
    "It should be noted that while there will be precise guidelines on how you should handle certain tasks in the project, there will also be places where an exact specification is not provided. **There will be times in the project where you will need to make and justify your own decisions on how to treat the data.** These are places where there may not be only one way to handle the data. In real-life tasks, there may be many valid ways to approach an analysis task. One of the most important things you can do is clearly document your approach so that other scientists can understand the decisions you've made.\n",
    "\n",
    "At the end of most sections, there will be a Markdown cell labeled **Discussion**. In these cells, you will report your findings for the completed section, as well as document the decisions that you made in your approach to each subtask. **Your project will be evaluated not just on the code used to complete the tasks outlined, but also your communication about your observations and conclusions at each stage.**"
   ]
  },
  {
   "cell_type": "code",
   "execution_count": 1,
   "metadata": {},
   "outputs": [
    {
     "data": {
      "text/plain": [
       "'\\nImport note: The classroom currently uses sklearn version 0.19.\\nIf you need to use an imputer, it is available in sklearn.preprocessing.Imputer,\\ninstead of sklearn.impute as in newer versions of sklearn.\\n'"
      ]
     },
     "execution_count": 1,
     "metadata": {},
     "output_type": "execute_result"
    }
   ],
   "source": [
    "# import libraries here; add more as necessary\n",
    "import numpy as np\n",
    "import pandas as pd\n",
    "import matplotlib.pyplot as plt\n",
    "import seaborn as sns\n",
    "\n",
    "# magic word for producing visualizations in notebook\n",
    "%matplotlib inline\n",
    "\n",
    "'''\n",
    "Import note: The classroom currently uses sklearn version 0.19.\n",
    "If you need to use an imputer, it is available in sklearn.preprocessing.Imputer,\n",
    "instead of sklearn.impute as in newer versions of sklearn.\n",
    "'''"
   ]
  },
  {
   "cell_type": "code",
   "execution_count": 2,
   "metadata": {},
   "outputs": [
    {
     "name": "stdout",
     "output_type": "stream",
     "text": [
      "Name: scikit-learn\n",
      "Version: 0.24.1\n",
      "Summary: A set of python modules for machine learning and data mining\n",
      "Home-page: http://scikit-learn.org\n",
      "Author: None\n",
      "Author-email: None\n",
      "License: new BSD\n",
      "Location: /opt/anaconda3/lib/python3.8/site-packages\n",
      "Requires: numpy, scipy, joblib, threadpoolctl\n",
      "Required-by: \n",
      "Note: you may need to restart the kernel to use updated packages.\n"
     ]
    }
   ],
   "source": [
    "pip show scikit-learn"
   ]
  },
  {
   "cell_type": "code",
   "execution_count": 3,
   "metadata": {},
   "outputs": [],
   "source": [
    "# make randomness predictable\n",
    "np.random.seed(42)"
   ]
  },
  {
   "cell_type": "markdown",
   "metadata": {},
   "source": [
    "### Step 0: Load the Data\n",
    "\n",
    "There are four files associated with this project (not including this one):\n",
    "\n",
    "- `Udacity_AZDIAS_Subset.csv`: Demographics data for the general population of Germany; 891211 persons (rows) x 85 features (columns).\n",
    "- `Udacity_CUSTOMERS_Subset.csv`: Demographics data for customers of a mail-order company; 191652 persons (rows) x 85 features (columns).\n",
    "- `Data_Dictionary.md`: Detailed information file about the features in the provided datasets.\n",
    "- `AZDIAS_Feature_Summary.csv`: Summary of feature attributes for demographics data; 85 features (rows) x 4 columns\n",
    "\n",
    "Each row of the demographics files represents a single person, but also includes information outside of individuals, including information about their household, building, and neighborhood. You will use this information to cluster the general population into groups with similar demographic properties. Then, you will see how the people in the customers dataset fit into those created clusters. The hope here is that certain clusters are over-represented in the customers data, as compared to the general population; those over-represented clusters will be assumed to be part of the core userbase. This information can then be used for further applications, such as targeting for a marketing campaign.\n",
    "\n",
    "To start off with, load in the demographics data for the general population into a pandas DataFrame, and do the same for the feature attributes summary. Note for all of the `.csv` data files in this project: they're semicolon (`;`) delimited, so you'll need an additional argument in your [`read_csv()`](https://pandas.pydata.org/pandas-docs/stable/generated/pandas.read_csv.html) call to read in the data properly. Also, considering the size of the main dataset, it may take some time for it to load completely.\n",
    "\n",
    "Once the dataset is loaded, it's recommended that you take a little bit of time just browsing the general structure of the dataset and feature summary file. You'll be getting deep into the innards of the cleaning in the first major step of the project, so gaining some general familiarity can help you get your bearings."
   ]
  },
  {
   "cell_type": "code",
   "execution_count": 4,
   "metadata": {},
   "outputs": [],
   "source": [
    "# Load in the general demographics data.\n",
    "azdias = pd.read_csv('Udacity_AZDIAS_Subset.csv', delimiter=';')\n",
    "\n",
    "# Load in the feature summary file.\n",
    "feat_info = pd.read_csv('AZDIAS_Feature_Summary.csv', delimiter=';')"
   ]
  },
  {
   "cell_type": "code",
   "execution_count": 5,
   "metadata": {},
   "outputs": [
    {
     "name": "stdout",
     "output_type": "stream",
     "text": [
      "Shape of demographics data: (891221, 85)\n",
      "Shape of feature info data: (85, 4)\n"
     ]
    }
   ],
   "source": [
    "# Check the structure of the data after it's loaded (e.g. print the number of\n",
    "# rows and columns, print the first few rows).\n",
    "print(f'Shape of demographics data: {azdias.shape}')\n",
    "print(f'Shape of feature info data: {feat_info.shape}')"
   ]
  },
  {
   "cell_type": "code",
   "execution_count": 6,
   "metadata": {},
   "outputs": [
    {
     "name": "stdout",
     "output_type": "stream",
     "text": [
      "                attribute information_level         type missing_or_unknown\n",
      "0                AGER_TYP            person  categorical             [-1,0]\n",
      "1    ALTERSKATEGORIE_GROB            person      ordinal           [-1,0,9]\n",
      "2               ANREDE_KZ            person  categorical             [-1,0]\n",
      "3           CJT_GESAMTTYP            person  categorical                [0]\n",
      "4       FINANZ_MINIMALIST            person      ordinal               [-1]\n",
      "5           FINANZ_SPARER            person      ordinal               [-1]\n",
      "6        FINANZ_VORSORGER            person      ordinal               [-1]\n",
      "7          FINANZ_ANLEGER            person      ordinal               [-1]\n",
      "8   FINANZ_UNAUFFAELLIGER            person      ordinal               [-1]\n",
      "9        FINANZ_HAUSBAUER            person      ordinal               [-1]\n",
      "10              FINANZTYP            person  categorical               [-1]\n",
      "11            GEBURTSJAHR            person      numeric                [0]\n",
      "12        GFK_URLAUBERTYP            person  categorical                 []\n",
      "13       GREEN_AVANTGARDE            person  categorical                 []\n",
      "14             HEALTH_TYP            person      ordinal             [-1,0]\n",
      "15    LP_LEBENSPHASE_FEIN            person        mixed                [0]\n",
      "16    LP_LEBENSPHASE_GROB            person        mixed                [0]\n",
      "17        LP_FAMILIE_FEIN            person  categorical                [0]\n",
      "18        LP_FAMILIE_GROB            person  categorical                [0]\n",
      "19         LP_STATUS_FEIN            person  categorical                [0]\n",
      "20         LP_STATUS_GROB            person  categorical                [0]\n",
      "21       NATIONALITAET_KZ            person  categorical             [-1,0]\n",
      "22  PRAEGENDE_JUGENDJAHRE            person        mixed             [-1,0]\n",
      "23         RETOURTYP_BK_S            person      ordinal                [0]\n",
      "24              SEMIO_SOZ            person      ordinal             [-1,9]\n",
      "25              SEMIO_FAM            person      ordinal             [-1,9]\n",
      "26              SEMIO_REL            person      ordinal             [-1,9]\n",
      "27              SEMIO_MAT            person      ordinal             [-1,9]\n",
      "28             SEMIO_VERT            person      ordinal             [-1,9]\n",
      "29             SEMIO_LUST            person      ordinal             [-1,9]\n",
      "30              SEMIO_ERL            person      ordinal             [-1,9]\n",
      "31             SEMIO_KULT            person      ordinal             [-1,9]\n",
      "32              SEMIO_RAT            person      ordinal             [-1,9]\n",
      "33             SEMIO_KRIT            person      ordinal             [-1,9]\n",
      "34              SEMIO_DOM            person      ordinal             [-1,9]\n",
      "35             SEMIO_KAEM            person      ordinal             [-1,9]\n",
      "36          SEMIO_PFLICHT            person      ordinal             [-1,9]\n",
      "37            SEMIO_TRADV            person      ordinal             [-1,9]\n",
      "38            SHOPPER_TYP            person  categorical               [-1]\n",
      "39                SOHO_KZ            person  categorical               [-1]\n",
      "40               TITEL_KZ            person  categorical             [-1,0]\n",
      "41               VERS_TYP            person  categorical               [-1]\n",
      "42               ZABEOTYP            person  categorical             [-1,9]\n",
      "43               ALTER_HH         household     interval                [0]\n",
      "44           ANZ_PERSONEN         household      numeric                 []\n",
      "45              ANZ_TITEL         household      numeric                 []\n",
      "46     HH_EINKOMMEN_SCORE         household      ordinal             [-1,0]\n",
      "47           KK_KUNDENTYP         household  categorical               [-1]\n",
      "48         W_KEIT_KIND_HH         household      ordinal             [-1,0]\n",
      "49         WOHNDAUER_2008         household      ordinal             [-1,0]\n",
      "50    ANZ_HAUSHALTE_AKTIV          building      numeric                [0]\n",
      "51           ANZ_HH_TITEL          building      numeric                 []\n",
      "52            GEBAEUDETYP          building  categorical             [-1,0]\n",
      "53            KONSUMNAEHE          building      ordinal                 []\n",
      "54       MIN_GEBAEUDEJAHR          building      numeric                [0]\n",
      "55            OST_WEST_KZ          building  categorical               [-1]\n",
      "56               WOHNLAGE          building        mixed               [-1]\n",
      "57        CAMEO_DEUG_2015     microcell_rr4  categorical             [-1,X]\n",
      "58         CAMEO_DEU_2015     microcell_rr4  categorical               [XX]\n",
      "59        CAMEO_INTL_2015     microcell_rr4        mixed            [-1,XX]\n",
      "60            KBA05_ANTG1     microcell_rr3      ordinal               [-1]\n",
      "61            KBA05_ANTG2     microcell_rr3      ordinal               [-1]\n",
      "62            KBA05_ANTG3     microcell_rr3      ordinal               [-1]\n",
      "63            KBA05_ANTG4     microcell_rr3      ordinal               [-1]\n",
      "64           KBA05_BAUMAX     microcell_rr3        mixed             [-1,0]\n",
      "65              KBA05_GBZ     microcell_rr3      ordinal             [-1,0]\n",
      "66               BALLRAUM          postcode      ordinal               [-1]\n",
      "67               EWDICHTE          postcode      ordinal               [-1]\n",
      "68             INNENSTADT          postcode      ordinal               [-1]\n",
      "69     GEBAEUDETYP_RASTER        region_rr1      ordinal                 []\n",
      "70                    KKK        region_rr1      ordinal             [-1,0]\n",
      "71             MOBI_REGIO        region_rr1      ordinal                 []\n",
      "72      ONLINE_AFFINITAET        region_rr1      ordinal                 []\n",
      "73               REGIOTYP        region_rr1      ordinal             [-1,0]\n",
      "74       KBA13_ANZAHL_PKW    macrocell_plz8      numeric                 []\n",
      "75             PLZ8_ANTG1    macrocell_plz8      ordinal               [-1]\n",
      "76             PLZ8_ANTG2    macrocell_plz8      ordinal               [-1]\n",
      "77             PLZ8_ANTG3    macrocell_plz8      ordinal               [-1]\n",
      "78             PLZ8_ANTG4    macrocell_plz8      ordinal               [-1]\n",
      "79            PLZ8_BAUMAX    macrocell_plz8        mixed             [-1,0]\n",
      "80               PLZ8_HHZ    macrocell_plz8      ordinal               [-1]\n",
      "81               PLZ8_GBZ    macrocell_plz8      ordinal               [-1]\n",
      "82                 ARBEIT         community      ordinal             [-1,9]\n",
      "83            ORTSGR_KLS9         community      ordinal             [-1,0]\n",
      "84               RELAT_AB         community      ordinal             [-1,9]\n"
     ]
    }
   ],
   "source": [
    "with pd.option_context('display.max_rows', None,\n",
    "                       'display.max_columns', None,\n",
    "                       'display.precision', 3,\n",
    "                       ):\n",
    "    print(feat_info)"
   ]
  },
  {
   "cell_type": "code",
   "execution_count": 7,
   "metadata": {
    "scrolled": true
   },
   "outputs": [
    {
     "data": {
      "text/html": [
       "<div>\n",
       "<style scoped>\n",
       "    .dataframe tbody tr th:only-of-type {\n",
       "        vertical-align: middle;\n",
       "    }\n",
       "\n",
       "    .dataframe tbody tr th {\n",
       "        vertical-align: top;\n",
       "    }\n",
       "\n",
       "    .dataframe thead th {\n",
       "        text-align: right;\n",
       "    }\n",
       "</style>\n",
       "<table border=\"1\" class=\"dataframe\">\n",
       "  <thead>\n",
       "    <tr style=\"text-align: right;\">\n",
       "      <th></th>\n",
       "      <th>AGER_TYP</th>\n",
       "      <th>ALTERSKATEGORIE_GROB</th>\n",
       "      <th>ANREDE_KZ</th>\n",
       "      <th>CJT_GESAMTTYP</th>\n",
       "      <th>FINANZ_MINIMALIST</th>\n",
       "      <th>FINANZ_SPARER</th>\n",
       "      <th>FINANZ_VORSORGER</th>\n",
       "      <th>FINANZ_ANLEGER</th>\n",
       "      <th>FINANZ_UNAUFFAELLIGER</th>\n",
       "      <th>FINANZ_HAUSBAUER</th>\n",
       "      <th>...</th>\n",
       "      <th>PLZ8_ANTG1</th>\n",
       "      <th>PLZ8_ANTG2</th>\n",
       "      <th>PLZ8_ANTG3</th>\n",
       "      <th>PLZ8_ANTG4</th>\n",
       "      <th>PLZ8_BAUMAX</th>\n",
       "      <th>PLZ8_HHZ</th>\n",
       "      <th>PLZ8_GBZ</th>\n",
       "      <th>ARBEIT</th>\n",
       "      <th>ORTSGR_KLS9</th>\n",
       "      <th>RELAT_AB</th>\n",
       "    </tr>\n",
       "  </thead>\n",
       "  <tbody>\n",
       "    <tr>\n",
       "      <th>0</th>\n",
       "      <td>-1</td>\n",
       "      <td>2</td>\n",
       "      <td>1</td>\n",
       "      <td>2.0</td>\n",
       "      <td>3</td>\n",
       "      <td>4</td>\n",
       "      <td>3</td>\n",
       "      <td>5</td>\n",
       "      <td>5</td>\n",
       "      <td>3</td>\n",
       "      <td>...</td>\n",
       "      <td>NaN</td>\n",
       "      <td>NaN</td>\n",
       "      <td>NaN</td>\n",
       "      <td>NaN</td>\n",
       "      <td>NaN</td>\n",
       "      <td>NaN</td>\n",
       "      <td>NaN</td>\n",
       "      <td>NaN</td>\n",
       "      <td>NaN</td>\n",
       "      <td>NaN</td>\n",
       "    </tr>\n",
       "    <tr>\n",
       "      <th>1</th>\n",
       "      <td>-1</td>\n",
       "      <td>1</td>\n",
       "      <td>2</td>\n",
       "      <td>5.0</td>\n",
       "      <td>1</td>\n",
       "      <td>5</td>\n",
       "      <td>2</td>\n",
       "      <td>5</td>\n",
       "      <td>4</td>\n",
       "      <td>5</td>\n",
       "      <td>...</td>\n",
       "      <td>2.0</td>\n",
       "      <td>3.0</td>\n",
       "      <td>2.0</td>\n",
       "      <td>1.0</td>\n",
       "      <td>1.0</td>\n",
       "      <td>5.0</td>\n",
       "      <td>4.0</td>\n",
       "      <td>3.0</td>\n",
       "      <td>5.0</td>\n",
       "      <td>4.0</td>\n",
       "    </tr>\n",
       "    <tr>\n",
       "      <th>2</th>\n",
       "      <td>-1</td>\n",
       "      <td>3</td>\n",
       "      <td>2</td>\n",
       "      <td>3.0</td>\n",
       "      <td>1</td>\n",
       "      <td>4</td>\n",
       "      <td>1</td>\n",
       "      <td>2</td>\n",
       "      <td>3</td>\n",
       "      <td>5</td>\n",
       "      <td>...</td>\n",
       "      <td>3.0</td>\n",
       "      <td>3.0</td>\n",
       "      <td>1.0</td>\n",
       "      <td>0.0</td>\n",
       "      <td>1.0</td>\n",
       "      <td>4.0</td>\n",
       "      <td>4.0</td>\n",
       "      <td>3.0</td>\n",
       "      <td>5.0</td>\n",
       "      <td>2.0</td>\n",
       "    </tr>\n",
       "    <tr>\n",
       "      <th>3</th>\n",
       "      <td>2</td>\n",
       "      <td>4</td>\n",
       "      <td>2</td>\n",
       "      <td>2.0</td>\n",
       "      <td>4</td>\n",
       "      <td>2</td>\n",
       "      <td>5</td>\n",
       "      <td>2</td>\n",
       "      <td>1</td>\n",
       "      <td>2</td>\n",
       "      <td>...</td>\n",
       "      <td>2.0</td>\n",
       "      <td>2.0</td>\n",
       "      <td>2.0</td>\n",
       "      <td>0.0</td>\n",
       "      <td>1.0</td>\n",
       "      <td>3.0</td>\n",
       "      <td>4.0</td>\n",
       "      <td>2.0</td>\n",
       "      <td>3.0</td>\n",
       "      <td>3.0</td>\n",
       "    </tr>\n",
       "    <tr>\n",
       "      <th>4</th>\n",
       "      <td>-1</td>\n",
       "      <td>3</td>\n",
       "      <td>1</td>\n",
       "      <td>5.0</td>\n",
       "      <td>4</td>\n",
       "      <td>3</td>\n",
       "      <td>4</td>\n",
       "      <td>1</td>\n",
       "      <td>3</td>\n",
       "      <td>2</td>\n",
       "      <td>...</td>\n",
       "      <td>2.0</td>\n",
       "      <td>4.0</td>\n",
       "      <td>2.0</td>\n",
       "      <td>1.0</td>\n",
       "      <td>2.0</td>\n",
       "      <td>3.0</td>\n",
       "      <td>3.0</td>\n",
       "      <td>4.0</td>\n",
       "      <td>6.0</td>\n",
       "      <td>5.0</td>\n",
       "    </tr>\n",
       "  </tbody>\n",
       "</table>\n",
       "<p>5 rows × 85 columns</p>\n",
       "</div>"
      ],
      "text/plain": [
       "   AGER_TYP  ALTERSKATEGORIE_GROB  ANREDE_KZ  CJT_GESAMTTYP  \\\n",
       "0        -1                     2          1            2.0   \n",
       "1        -1                     1          2            5.0   \n",
       "2        -1                     3          2            3.0   \n",
       "3         2                     4          2            2.0   \n",
       "4        -1                     3          1            5.0   \n",
       "\n",
       "   FINANZ_MINIMALIST  FINANZ_SPARER  FINANZ_VORSORGER  FINANZ_ANLEGER  \\\n",
       "0                  3              4                 3               5   \n",
       "1                  1              5                 2               5   \n",
       "2                  1              4                 1               2   \n",
       "3                  4              2                 5               2   \n",
       "4                  4              3                 4               1   \n",
       "\n",
       "   FINANZ_UNAUFFAELLIGER  FINANZ_HAUSBAUER  ...  PLZ8_ANTG1  PLZ8_ANTG2  \\\n",
       "0                      5                 3  ...         NaN         NaN   \n",
       "1                      4                 5  ...         2.0         3.0   \n",
       "2                      3                 5  ...         3.0         3.0   \n",
       "3                      1                 2  ...         2.0         2.0   \n",
       "4                      3                 2  ...         2.0         4.0   \n",
       "\n",
       "   PLZ8_ANTG3  PLZ8_ANTG4  PLZ8_BAUMAX  PLZ8_HHZ  PLZ8_GBZ  ARBEIT  \\\n",
       "0         NaN         NaN          NaN       NaN       NaN     NaN   \n",
       "1         2.0         1.0          1.0       5.0       4.0     3.0   \n",
       "2         1.0         0.0          1.0       4.0       4.0     3.0   \n",
       "3         2.0         0.0          1.0       3.0       4.0     2.0   \n",
       "4         2.0         1.0          2.0       3.0       3.0     4.0   \n",
       "\n",
       "   ORTSGR_KLS9  RELAT_AB  \n",
       "0          NaN       NaN  \n",
       "1          5.0       4.0  \n",
       "2          5.0       2.0  \n",
       "3          3.0       3.0  \n",
       "4          6.0       5.0  \n",
       "\n",
       "[5 rows x 85 columns]"
      ]
     },
     "execution_count": 7,
     "metadata": {},
     "output_type": "execute_result"
    }
   ],
   "source": [
    "azdias.head()"
   ]
  },
  {
   "cell_type": "code",
   "execution_count": 8,
   "metadata": {},
   "outputs": [],
   "source": [
    "def cast_int(s):\n",
    "    try:\n",
    "        return int(s)\n",
    "    except ValueError:\n",
    "        return s\n",
    "\n",
    "def get_unknown_values(col):\n",
    "    unknown_values = []\n",
    "    missing_or_unknown = feat_info[feat_info['attribute'] == col]['missing_or_unknown'].iloc[0]\n",
    "    missing_or_unknown = missing_or_unknown.replace('[','')\n",
    "    missing_or_unknown = missing_or_unknown.replace(']','')\n",
    "    if len(missing_or_unknown) > 0:\n",
    "        unknown_values = missing_or_unknown.split(',')\n",
    "        unknown_values = [cast_int(u) for u in unknown_values]\n",
    "    return unknown_values"
   ]
  },
  {
   "cell_type": "code",
   "execution_count": 9,
   "metadata": {},
   "outputs": [],
   "source": [
    "# before applying migration: remember all the number of values of every columns that should be converted to NaNs\n",
    "expected_nas = dict()\n",
    "for col in azdias:\n",
    "    unknown_values = get_unknown_values(col)\n",
    "    sum_ = azdias[col].isna().sum()\n",
    "    for unknown_value in unknown_values:\n",
    "        sum_ += azdias[azdias[col] == unknown_value].shape[0]\n",
    "    expected_nas[col] = sum_"
   ]
  },
  {
   "cell_type": "markdown",
   "metadata": {},
   "source": [
    "> **Tip**: Add additional cells to keep everything in reasonably-sized chunks! Keyboard shortcut `esc --> a` (press escape to enter command mode, then press the 'A' key) adds a new cell before the active cell, and `esc --> b` adds a new cell after the active cell. If you need to convert an active cell to a markdown cell, use `esc --> m` and to convert to a code cell, use `esc --> y`. \n",
    "\n",
    "## Step 1: Preprocessing\n",
    "\n",
    "### Step 1.1: Assess Missing Data\n",
    "\n",
    "The feature summary file contains a summary of properties for each demographics data column. You will use this file to help you make cleaning decisions during this stage of the project. First of all, you should assess the demographics data in terms of missing data. Pay attention to the following points as you perform your analysis, and take notes on what you observe. Make sure that you fill in the **Discussion** cell with your findings and decisions at the end of each step that has one!\n",
    "\n",
    "#### Step 1.1.1: Convert Missing Value Codes to NaNs\n",
    "The fourth column of the feature attributes summary (loaded in above as `feat_info`) documents the codes from the data dictionary that indicate missing or unknown data. While the file encodes this as a list (e.g. `[-1,0]`), this will get read in as a string object. You'll need to do a little bit of parsing to make use of it to identify and clean the data. Convert data that matches a 'missing' or 'unknown' value code into a numpy NaN value. You might want to see how much data takes on a 'missing' or 'unknown' code, and how much data is naturally missing, as a point of interest.\n",
    "\n",
    "**As one more reminder, you are encouraged to add additional cells to break up your analysis into manageable chunks.**"
   ]
  },
  {
   "cell_type": "code",
   "execution_count": 10,
   "metadata": {},
   "outputs": [],
   "source": [
    "# Identify missing or unknown data values and convert them to NaNs.\n",
    "for col in azdias:\n",
    "    unknown_values = get_unknown_values(col)\n",
    "    azdias[col] = azdias[col].apply(lambda v : np.nan if v in unknown_values else v)"
   ]
  },
  {
   "cell_type": "code",
   "execution_count": 11,
   "metadata": {},
   "outputs": [
    {
     "data": {
      "text/html": [
       "<div>\n",
       "<style scoped>\n",
       "    .dataframe tbody tr th:only-of-type {\n",
       "        vertical-align: middle;\n",
       "    }\n",
       "\n",
       "    .dataframe tbody tr th {\n",
       "        vertical-align: top;\n",
       "    }\n",
       "\n",
       "    .dataframe thead th {\n",
       "        text-align: right;\n",
       "    }\n",
       "</style>\n",
       "<table border=\"1\" class=\"dataframe\">\n",
       "  <thead>\n",
       "    <tr style=\"text-align: right;\">\n",
       "      <th></th>\n",
       "      <th>AGER_TYP</th>\n",
       "      <th>ALTERSKATEGORIE_GROB</th>\n",
       "      <th>ANREDE_KZ</th>\n",
       "      <th>CJT_GESAMTTYP</th>\n",
       "      <th>FINANZ_MINIMALIST</th>\n",
       "      <th>FINANZ_SPARER</th>\n",
       "      <th>FINANZ_VORSORGER</th>\n",
       "      <th>FINANZ_ANLEGER</th>\n",
       "      <th>FINANZ_UNAUFFAELLIGER</th>\n",
       "      <th>FINANZ_HAUSBAUER</th>\n",
       "      <th>...</th>\n",
       "      <th>PLZ8_ANTG1</th>\n",
       "      <th>PLZ8_ANTG2</th>\n",
       "      <th>PLZ8_ANTG3</th>\n",
       "      <th>PLZ8_ANTG4</th>\n",
       "      <th>PLZ8_BAUMAX</th>\n",
       "      <th>PLZ8_HHZ</th>\n",
       "      <th>PLZ8_GBZ</th>\n",
       "      <th>ARBEIT</th>\n",
       "      <th>ORTSGR_KLS9</th>\n",
       "      <th>RELAT_AB</th>\n",
       "    </tr>\n",
       "  </thead>\n",
       "  <tbody>\n",
       "    <tr>\n",
       "      <th>0</th>\n",
       "      <td>NaN</td>\n",
       "      <td>2.0</td>\n",
       "      <td>1</td>\n",
       "      <td>2.0</td>\n",
       "      <td>3</td>\n",
       "      <td>4</td>\n",
       "      <td>3</td>\n",
       "      <td>5</td>\n",
       "      <td>5</td>\n",
       "      <td>3</td>\n",
       "      <td>...</td>\n",
       "      <td>NaN</td>\n",
       "      <td>NaN</td>\n",
       "      <td>NaN</td>\n",
       "      <td>NaN</td>\n",
       "      <td>NaN</td>\n",
       "      <td>NaN</td>\n",
       "      <td>NaN</td>\n",
       "      <td>NaN</td>\n",
       "      <td>NaN</td>\n",
       "      <td>NaN</td>\n",
       "    </tr>\n",
       "    <tr>\n",
       "      <th>1</th>\n",
       "      <td>NaN</td>\n",
       "      <td>1.0</td>\n",
       "      <td>2</td>\n",
       "      <td>5.0</td>\n",
       "      <td>1</td>\n",
       "      <td>5</td>\n",
       "      <td>2</td>\n",
       "      <td>5</td>\n",
       "      <td>4</td>\n",
       "      <td>5</td>\n",
       "      <td>...</td>\n",
       "      <td>2.0</td>\n",
       "      <td>3.0</td>\n",
       "      <td>2.0</td>\n",
       "      <td>1.0</td>\n",
       "      <td>1.0</td>\n",
       "      <td>5.0</td>\n",
       "      <td>4.0</td>\n",
       "      <td>3.0</td>\n",
       "      <td>5.0</td>\n",
       "      <td>4.0</td>\n",
       "    </tr>\n",
       "    <tr>\n",
       "      <th>2</th>\n",
       "      <td>NaN</td>\n",
       "      <td>3.0</td>\n",
       "      <td>2</td>\n",
       "      <td>3.0</td>\n",
       "      <td>1</td>\n",
       "      <td>4</td>\n",
       "      <td>1</td>\n",
       "      <td>2</td>\n",
       "      <td>3</td>\n",
       "      <td>5</td>\n",
       "      <td>...</td>\n",
       "      <td>3.0</td>\n",
       "      <td>3.0</td>\n",
       "      <td>1.0</td>\n",
       "      <td>0.0</td>\n",
       "      <td>1.0</td>\n",
       "      <td>4.0</td>\n",
       "      <td>4.0</td>\n",
       "      <td>3.0</td>\n",
       "      <td>5.0</td>\n",
       "      <td>2.0</td>\n",
       "    </tr>\n",
       "    <tr>\n",
       "      <th>3</th>\n",
       "      <td>2.0</td>\n",
       "      <td>4.0</td>\n",
       "      <td>2</td>\n",
       "      <td>2.0</td>\n",
       "      <td>4</td>\n",
       "      <td>2</td>\n",
       "      <td>5</td>\n",
       "      <td>2</td>\n",
       "      <td>1</td>\n",
       "      <td>2</td>\n",
       "      <td>...</td>\n",
       "      <td>2.0</td>\n",
       "      <td>2.0</td>\n",
       "      <td>2.0</td>\n",
       "      <td>0.0</td>\n",
       "      <td>1.0</td>\n",
       "      <td>3.0</td>\n",
       "      <td>4.0</td>\n",
       "      <td>2.0</td>\n",
       "      <td>3.0</td>\n",
       "      <td>3.0</td>\n",
       "    </tr>\n",
       "    <tr>\n",
       "      <th>4</th>\n",
       "      <td>NaN</td>\n",
       "      <td>3.0</td>\n",
       "      <td>1</td>\n",
       "      <td>5.0</td>\n",
       "      <td>4</td>\n",
       "      <td>3</td>\n",
       "      <td>4</td>\n",
       "      <td>1</td>\n",
       "      <td>3</td>\n",
       "      <td>2</td>\n",
       "      <td>...</td>\n",
       "      <td>2.0</td>\n",
       "      <td>4.0</td>\n",
       "      <td>2.0</td>\n",
       "      <td>1.0</td>\n",
       "      <td>2.0</td>\n",
       "      <td>3.0</td>\n",
       "      <td>3.0</td>\n",
       "      <td>4.0</td>\n",
       "      <td>6.0</td>\n",
       "      <td>5.0</td>\n",
       "    </tr>\n",
       "  </tbody>\n",
       "</table>\n",
       "<p>5 rows × 85 columns</p>\n",
       "</div>"
      ],
      "text/plain": [
       "   AGER_TYP  ALTERSKATEGORIE_GROB  ANREDE_KZ  CJT_GESAMTTYP  \\\n",
       "0       NaN                   2.0          1            2.0   \n",
       "1       NaN                   1.0          2            5.0   \n",
       "2       NaN                   3.0          2            3.0   \n",
       "3       2.0                   4.0          2            2.0   \n",
       "4       NaN                   3.0          1            5.0   \n",
       "\n",
       "   FINANZ_MINIMALIST  FINANZ_SPARER  FINANZ_VORSORGER  FINANZ_ANLEGER  \\\n",
       "0                  3              4                 3               5   \n",
       "1                  1              5                 2               5   \n",
       "2                  1              4                 1               2   \n",
       "3                  4              2                 5               2   \n",
       "4                  4              3                 4               1   \n",
       "\n",
       "   FINANZ_UNAUFFAELLIGER  FINANZ_HAUSBAUER  ...  PLZ8_ANTG1  PLZ8_ANTG2  \\\n",
       "0                      5                 3  ...         NaN         NaN   \n",
       "1                      4                 5  ...         2.0         3.0   \n",
       "2                      3                 5  ...         3.0         3.0   \n",
       "3                      1                 2  ...         2.0         2.0   \n",
       "4                      3                 2  ...         2.0         4.0   \n",
       "\n",
       "   PLZ8_ANTG3  PLZ8_ANTG4  PLZ8_BAUMAX  PLZ8_HHZ  PLZ8_GBZ  ARBEIT  \\\n",
       "0         NaN         NaN          NaN       NaN       NaN     NaN   \n",
       "1         2.0         1.0          1.0       5.0       4.0     3.0   \n",
       "2         1.0         0.0          1.0       4.0       4.0     3.0   \n",
       "3         2.0         0.0          1.0       3.0       4.0     2.0   \n",
       "4         2.0         1.0          2.0       3.0       3.0     4.0   \n",
       "\n",
       "   ORTSGR_KLS9  RELAT_AB  \n",
       "0          NaN       NaN  \n",
       "1          5.0       4.0  \n",
       "2          5.0       2.0  \n",
       "3          3.0       3.0  \n",
       "4          6.0       5.0  \n",
       "\n",
       "[5 rows x 85 columns]"
      ]
     },
     "execution_count": 11,
     "metadata": {},
     "output_type": "execute_result"
    }
   ],
   "source": [
    "azdias.head()"
   ]
  },
  {
   "cell_type": "code",
   "execution_count": 12,
   "metadata": {},
   "outputs": [
    {
     "name": "stdout",
     "output_type": "stream",
     "text": [
      "AGER_TYP ok.\n",
      "ALTERSKATEGORIE_GROB ok.\n",
      "ANREDE_KZ ok.\n",
      "CJT_GESAMTTYP ok.\n",
      "FINANZ_MINIMALIST ok.\n",
      "FINANZ_SPARER ok.\n",
      "FINANZ_VORSORGER ok.\n",
      "FINANZ_ANLEGER ok.\n",
      "FINANZ_UNAUFFAELLIGER ok.\n",
      "FINANZ_HAUSBAUER ok.\n",
      "FINANZTYP ok.\n",
      "GEBURTSJAHR ok.\n",
      "GFK_URLAUBERTYP ok.\n",
      "GREEN_AVANTGARDE ok.\n",
      "HEALTH_TYP ok.\n",
      "LP_LEBENSPHASE_FEIN ok.\n",
      "LP_LEBENSPHASE_GROB ok.\n",
      "LP_FAMILIE_FEIN ok.\n",
      "LP_FAMILIE_GROB ok.\n",
      "LP_STATUS_FEIN ok.\n",
      "LP_STATUS_GROB ok.\n",
      "NATIONALITAET_KZ ok.\n",
      "PRAEGENDE_JUGENDJAHRE ok.\n",
      "RETOURTYP_BK_S ok.\n",
      "SEMIO_SOZ ok.\n",
      "SEMIO_FAM ok.\n",
      "SEMIO_REL ok.\n",
      "SEMIO_MAT ok.\n",
      "SEMIO_VERT ok.\n",
      "SEMIO_LUST ok.\n",
      "SEMIO_ERL ok.\n",
      "SEMIO_KULT ok.\n",
      "SEMIO_RAT ok.\n",
      "SEMIO_KRIT ok.\n",
      "SEMIO_DOM ok.\n",
      "SEMIO_KAEM ok.\n",
      "SEMIO_PFLICHT ok.\n",
      "SEMIO_TRADV ok.\n",
      "SHOPPER_TYP ok.\n",
      "SOHO_KZ ok.\n",
      "TITEL_KZ ok.\n",
      "VERS_TYP ok.\n",
      "ZABEOTYP ok.\n",
      "ALTER_HH ok.\n",
      "ANZ_PERSONEN ok.\n",
      "ANZ_TITEL ok.\n",
      "HH_EINKOMMEN_SCORE ok.\n",
      "KK_KUNDENTYP ok.\n",
      "W_KEIT_KIND_HH ok.\n",
      "WOHNDAUER_2008 ok.\n",
      "ANZ_HAUSHALTE_AKTIV ok.\n",
      "ANZ_HH_TITEL ok.\n",
      "GEBAEUDETYP ok.\n",
      "KONSUMNAEHE ok.\n",
      "MIN_GEBAEUDEJAHR ok.\n",
      "OST_WEST_KZ ok.\n",
      "WOHNLAGE ok.\n",
      "CAMEO_DEUG_2015 ok.\n",
      "CAMEO_DEU_2015 ok.\n",
      "CAMEO_INTL_2015 ok.\n",
      "KBA05_ANTG1 ok.\n",
      "KBA05_ANTG2 ok.\n",
      "KBA05_ANTG3 ok.\n",
      "KBA05_ANTG4 ok.\n",
      "KBA05_BAUMAX ok.\n",
      "KBA05_GBZ ok.\n",
      "BALLRAUM ok.\n",
      "EWDICHTE ok.\n",
      "INNENSTADT ok.\n",
      "GEBAEUDETYP_RASTER ok.\n",
      "KKK ok.\n",
      "MOBI_REGIO ok.\n",
      "ONLINE_AFFINITAET ok.\n",
      "REGIOTYP ok.\n",
      "KBA13_ANZAHL_PKW ok.\n",
      "PLZ8_ANTG1 ok.\n",
      "PLZ8_ANTG2 ok.\n",
      "PLZ8_ANTG3 ok.\n",
      "PLZ8_ANTG4 ok.\n",
      "PLZ8_BAUMAX ok.\n",
      "PLZ8_HHZ ok.\n",
      "PLZ8_GBZ ok.\n",
      "ARBEIT ok.\n",
      "ORTSGR_KLS9 ok.\n",
      "RELAT_AB ok.\n"
     ]
    }
   ],
   "source": [
    "# test if migration was successful\n",
    "for col in azdias:\n",
    "    sum_nans = azdias[col].isna().sum()\n",
    "    if(sum_nans == expected_nas[col]):\n",
    "        print(f'{col} ok.')\n",
    "    else:\n",
    "        print(f'{col} failed. {sum_nans} vs. {expected_nas[col]}')"
   ]
  },
  {
   "cell_type": "markdown",
   "metadata": {},
   "source": [
    "#### Step 1.1.2: Assess Missing Data in Each Column\n",
    "\n",
    "How much missing data is present in each column? There are a few columns that are outliers in terms of the proportion of values that are missing. You will want to use matplotlib's [`hist()`](https://matplotlib.org/api/_as_gen/matplotlib.pyplot.hist.html) function to visualize the distribution of missing value counts to find these columns. Identify and document these columns. While some of these columns might have justifications for keeping or re-encoding the data, for this project you should just remove them from the dataframe. (Feel free to make remarks about these outlier columns in the discussion, however!)\n",
    "\n",
    "For the remaining features, are there any patterns in which columns have, or share, missing data?"
   ]
  },
  {
   "cell_type": "code",
   "execution_count": 13,
   "metadata": {},
   "outputs": [
    {
     "name": "stdout",
     "output_type": "stream",
     "text": [
      "Missing ratio high for AGER_TYP: 0.7695543529607134\n",
      "Missing ratio high for GEBURTSJAHR: 0.4402028228688507\n",
      "Missing ratio high for TITEL_KZ: 0.9975763587258379\n",
      "Missing ratio high for ALTER_HH: 0.34813699407890975\n",
      "Missing ratio high for KK_KUNDENTYP: 0.6559674873011295\n",
      "Missing ratio high for KBA05_BAUMAX: 0.5346866826522265\n"
     ]
    }
   ],
   "source": [
    "# Perform an assessment of how much missing data there is in each column of the\n",
    "# dataset.\n",
    "total_rows = azdias.shape[0]\n",
    "for col in azdias:\n",
    "    missing_ratio =  azdias[col].isna().sum() / total_rows\n",
    "    if missing_ratio > 0.20:\n",
    "        print(f'Missing ratio high for {col}: {missing_ratio}')"
   ]
  },
  {
   "cell_type": "code",
   "execution_count": 14,
   "metadata": {},
   "outputs": [
    {
     "name": "stdout",
     "output_type": "stream",
     "text": [
      "NaN    685843\n",
      "2.0     98472\n",
      "1.0     79802\n",
      "3.0     27104\n",
      "Name: AGER_TYP, dtype: int64\n",
      "3.0    358533\n",
      "4.0    228510\n",
      "2.0    158410\n",
      "1.0    142887\n",
      "NaN      2881\n",
      "Name: ALTERSKATEGORIE_GROB, dtype: int64\n"
     ]
    }
   ],
   "source": [
    "# Investigate patterns in the amount of missing data in each column.\n",
    "# Column AGER_TYP Best-ager typology\n",
    "\n",
    "# check if best_ager falls under a category in alterskategorie_grob\n",
    "print(azdias['AGER_TYP'].value_counts(dropna=False))\n",
    "print(azdias['ALTERSKATEGORIE_GROB'].value_counts(dropna=False))"
   ]
  },
  {
   "cell_type": "code",
   "execution_count": 15,
   "metadata": {},
   "outputs": [
    {
     "name": "stdout",
     "output_type": "stream",
     "text": [
      "NaN       392318\n",
      "1967.0     11183\n",
      "1965.0     11090\n",
      "1966.0     10933\n",
      "1970.0     10883\n",
      "           ...  \n",
      "1906.0         7\n",
      "1904.0         5\n",
      "1900.0         4\n",
      "1907.0         4\n",
      "1902.0         1\n",
      "Name: GEBURTSJAHR, Length: 117, dtype: int64\n"
     ]
    },
    {
     "data": {
      "text/plain": [
       "<AxesSubplot:ylabel='Frequency'>"
      ]
     },
     "execution_count": 15,
     "metadata": {},
     "output_type": "execute_result"
    },
    {
     "data": {
      "image/png": "[encoded data removed]",
      "text/plain": [
       "<Figure size 432x288 with 2 Axes>"
      ]
     },
     "metadata": {
      "needs_background": "light"
     },
     "output_type": "display_data"
    }
   ],
   "source": [
    "# Investigate patterns in the amount of missing data in each column.\n",
    "# Column GEBURTSJAHR Year of birth\n",
    "print(azdias['GEBURTSJAHR'].value_counts(dropna=False))\n",
    "\n",
    "fig, (ax1, ax2) = plt.subplots(1, 2)\n",
    "azdias['ALTERSKATEGORIE_GROB'].plot(kind='hist', ax=ax1)\n",
    "azdias['GEBURTSJAHR'].plot(kind='hist', ax=ax2)"
   ]
  },
  {
   "cell_type": "code",
   "execution_count": 16,
   "metadata": {},
   "outputs": [],
   "source": [
    "# Remove the outlier columns from the dataset. (You'll perform other data\n",
    "# engineering tasks such as re-encoding and imputation later.)\n",
    "drop_columns = ['AGER_TYP', 'GEBURTSJAHR', 'TITEL_KZ', 'ALTER_HH', 'KBA05_BAUMAX']\n",
    "azdias = azdias.drop(columns=drop_columns)\n",
    "\n",
    "for drop_column in drop_columns:\n",
    "    index = feat_info[feat_info['attribute'] == drop_column].index\n",
    "    feat_info = feat_info.drop(index) "
   ]
  },
  {
   "cell_type": "markdown",
   "metadata": {},
   "source": [
    "#### Discussion 1.1.2: Assess Missing Data in Each Column\n",
    "In total there have been 6 columns where more than 20% of the data were missing. \n",
    "\n",
    "**AGER_TYP Best-ager typology 77% missing**\n",
    "Best agers are considered people at around 50 years. In the dataset we have ~200k values. When we are looking at the column ALTERSKATEGORIE_GROB we see that in the dataset we do have ~360k people between 46yrs and 60yrs. If we consider this the catogisation for best agers still is only at around 55%. Although it could have a small effect on the clustering I would suggest to **drop** this column.\n",
    "\n",
    "**GEBURTSJAHR Year of birth 44% missing**\n",
    "The existing values form a nice Gaussian curve. Semantically there is a similar column ALTERSKATEGORIE_GROB, which also forms a similar curve. Therefore I deduct, that the ALTERSKATEGORIE_GROB contains valid values. I also think, that for this use case a categorization into a range of years is enough. Therefore I would suggest to **drop** this column.\n",
    "\n",
    "**TITEL_KZ Academic title flag 99% missing**\n",
    "A lot of missing data. Semantically the field ANZ_TITEL is similar. Therefore I would suggest to **drop** this column.\n",
    "\n",
    "**ALTER_HH Birthdate of head of household 35% missing**\n",
    "A lot of missing data. Semantically it should not affect the outcome of the model. Therefore I would suggest to **drop** this column.\n",
    "\n",
    "**KK_KUNDENTYP Consumer pattern over past 12 months 66% missing**\n",
    "Although a lot of data is missing, this column is very interesting for our use case. Therefore I would suggest to **keep** this column. The handling of the missing values has to be defined afterwards.\n",
    "\n",
    "**KBA05_BAUMAX Most common building type within the microcell 53% missing**\n",
    "Can be derived from the columns KBA05_ANTG1 - KBA05_ANTG5, where less values are missing. Therefore I would suggest to **drop** this column. \n",
    "\n",
    "\n",
    "\n"
   ]
  },
  {
   "cell_type": "markdown",
   "metadata": {},
   "source": [
    "#### Step 1.1.3: Assess Missing Data in Each Row\n",
    "\n",
    "Now, you'll perform a similar assessment for the rows of the dataset. How much data is missing in each row? As with the columns, you should see some groups of points that have a very different numbers of missing values. Divide the data into two subsets: one for data points that are above some threshold for missing values, and a second subset for points below that threshold.\n",
    "\n",
    "In order to know what to do with the outlier rows, we should see if the distribution of data values on columns that are not missing data (or are missing very little data) are similar or different between the two groups. Select at least five of these columns and compare the distribution of values.\n",
    "- You can use seaborn's [`countplot()`](https://seaborn.pydata.org/generated/seaborn.countplot.html) function to create a bar chart of code frequencies and matplotlib's [`subplot()`](https://matplotlib.org/api/_as_gen/matplotlib.pyplot.subplot.html) function to put bar charts for the two subplots side by side.\n",
    "- To reduce repeated code, you might want to write a function that can perform this comparison, taking as one of its arguments a column to be compared.\n",
    "\n",
    "Depending on what you observe in your comparison, this will have implications on how you approach your conclusions later in the analysis. If the distributions of non-missing features look similar between the data with many missing values and the data with few or no missing values, then we could argue that simply dropping those points from the analysis won't present a major issue. On the other hand, if the data with many missing values looks very different from the data with few or no missing values, then we should make a note on those data as special. We'll revisit these data later on. **Either way, you should continue your analysis for now using just the subset of the data with few or no missing values.**"
   ]
  },
  {
   "cell_type": "code",
   "execution_count": 17,
   "metadata": {},
   "outputs": [
    {
     "data": {
      "text/plain": [
       "count    891221.000000\n",
       "mean          6.305861\n",
       "std          13.337837\n",
       "min           0.000000\n",
       "25%           0.000000\n",
       "50%           1.000000\n",
       "75%           3.000000\n",
       "max          50.000000\n",
       "dtype: float64"
      ]
     },
     "execution_count": 17,
     "metadata": {},
     "output_type": "execute_result"
    }
   ],
   "source": [
    "# How much data is missing in each row of the dataset?\n",
    "missing = azdias.isna().sum(axis=1)\n",
    "missing.describe()\n"
   ]
  },
  {
   "cell_type": "code",
   "execution_count": 18,
   "metadata": {},
   "outputs": [
    {
     "data": {
      "text/plain": [
       "0.8944795959700231"
      ]
     },
     "execution_count": 18,
     "metadata": {},
     "output_type": "execute_result"
    }
   ],
   "source": [
    "missing[missing <= 20].count() / missing.count()"
   ]
  },
  {
   "cell_type": "code",
   "execution_count": 19,
   "metadata": {},
   "outputs": [
    {
     "name": "stdout",
     "output_type": "stream",
     "text": [
      "Shape of data missing <= 20: (797179, 80)\n",
      "Shape of data missing > 20: (94042, 80)\n"
     ]
    }
   ],
   "source": [
    "# Write code to divide the data into two subsets based on the number of missing\n",
    "# values in each row.\n",
    "threshold = 20 # we split the dataset to get approx a 90-10 split (good-bad)\n",
    "data = azdias[azdias.isna().sum(axis=1) <= threshold]\n",
    "data_high_missing = azdias[azdias.isna().sum(axis=1) > threshold]\n",
    "print(f'Shape of data missing <= {threshold}: {data.shape}')\n",
    "print(f'Shape of data missing > {threshold}: {data_high_missing.shape}')"
   ]
  },
  {
   "cell_type": "code",
   "execution_count": 20,
   "metadata": {},
   "outputs": [
    {
     "data": {
      "text/plain": [
       "['ANREDE_KZ',\n",
       " 'FINANZ_MINIMALIST',\n",
       " 'FINANZ_SPARER',\n",
       " 'FINANZ_VORSORGER',\n",
       " 'FINANZ_ANLEGER',\n",
       " 'FINANZ_UNAUFFAELLIGER',\n",
       " 'FINANZ_HAUSBAUER',\n",
       " 'FINANZTYP',\n",
       " 'GREEN_AVANTGARDE',\n",
       " 'SEMIO_SOZ',\n",
       " 'SEMIO_FAM',\n",
       " 'SEMIO_REL',\n",
       " 'SEMIO_MAT',\n",
       " 'SEMIO_VERT',\n",
       " 'SEMIO_LUST',\n",
       " 'SEMIO_ERL',\n",
       " 'SEMIO_KULT',\n",
       " 'SEMIO_RAT',\n",
       " 'SEMIO_KRIT',\n",
       " 'SEMIO_DOM',\n",
       " 'SEMIO_KAEM',\n",
       " 'SEMIO_PFLICHT',\n",
       " 'SEMIO_TRADV',\n",
       " 'ZABEOTYP']"
      ]
     },
     "execution_count": 20,
     "metadata": {},
     "output_type": "execute_result"
    }
   ],
   "source": [
    "# Compare the distribution of values for at least five columns where there are\n",
    "# no or few missing values, between the two subsets.\n",
    "cols = (data.isna().sum() <= threshold)&(data_high_missing.isna().sum() <= threshold)\n",
    "cols = cols[cols == True].index.to_list()\n",
    "cols"
   ]
  },
  {
   "cell_type": "code",
   "execution_count": 21,
   "metadata": {},
   "outputs": [
    {
     "data": {
      "image/png": "[encoded data removed]",
      "text/plain": [
       "<Figure size 1080x360 with 2 Axes>"
      ]
     },
     "metadata": {
      "needs_background": "light"
     },
     "output_type": "display_data"
    },
    {
     "data": {
      "image/png": "[encoded data removed]",
      "text/plain": [
       "<Figure size 1080x360 with 2 Axes>"
      ]
     },
     "metadata": {
      "needs_background": "light"
     },
     "output_type": "display_data"
    },
    {
     "data": {
      "image/png": "[encoded data removed]",
      "text/plain": [
       "<Figure size 1080x360 with 2 Axes>"
      ]
     },
     "metadata": {
      "needs_background": "light"
     },
     "output_type": "display_data"
    },
    {
     "data": {
      "image/png": "[encoded data removed]",
      "text/plain": [
       "<Figure size 1080x360 with 2 Axes>"
      ]
     },
     "metadata": {
      "needs_background": "light"
     },
     "output_type": "display_data"
    },
    {
     "data": {
      "image/png": "[encoded data removed]",
      "text/plain": [
       "<Figure size 1080x360 with 2 Axes>"
      ]
     },
     "metadata": {
      "needs_background": "light"
     },
     "output_type": "display_data"
    },
    {
     "data": {
      "image/png": "[encoded data removed]",
      "text/plain": [
       "<Figure size 1080x360 with 2 Axes>"
      ]
     },
     "metadata": {
      "needs_background": "light"
     },
     "output_type": "display_data"
    },
    {
     "data": {
      "image/png": "[encoded data removed]",
      "text/plain": [
       "<Figure size 1080x360 with 2 Axes>"
      ]
     },
     "metadata": {
      "needs_background": "light"
     },
     "output_type": "display_data"
    },
    {
     "data": {
      "image/png": "[encoded data removed]",
      "text/plain": [
       "<Figure size 1080x360 with 2 Axes>"
      ]
     },
     "metadata": {
      "needs_background": "light"
     },
     "output_type": "display_data"
    },
    {
     "data": {
      "image/png": "[encoded data removed]",
      "text/plain": [
       "<Figure size 1080x360 with 2 Axes>"
      ]
     },
     "metadata": {
      "needs_background": "light"
     },
     "output_type": "display_data"
    },
    {
     "data": {
      "image/png": "[encoded data removed]",
      "text/plain": [
       "<Figure size 1080x360 with 2 Axes>"
      ]
     },
     "metadata": {
      "needs_background": "light"
     },
     "output_type": "display_data"
    },
    {
     "data": {
      "image/png": "[encoded data removed]",
      "text/plain": [
       "<Figure size 1080x360 with 2 Axes>"
      ]
     },
     "metadata": {
      "needs_background": "light"
     },
     "output_type": "display_data"
    },
    {
     "data": {
      "image/png": "[encoded data removed]",
      "text/plain": [
       "<Figure size 1080x360 with 2 Axes>"
      ]
     },
     "metadata": {
      "needs_background": "light"
     },
     "output_type": "display_data"
    },
    {
     "data": {
      "image/png": "[encoded data removed]",
      "text/plain": [
       "<Figure size 1080x360 with 2 Axes>"
      ]
     },
     "metadata": {
      "needs_background": "light"
     },
     "output_type": "display_data"
    },
    {
     "data": {
      "image/png": "[encoded data removed]",
      "text/plain": [
       "<Figure size 1080x360 with 2 Axes>"
      ]
     },
     "metadata": {
      "needs_background": "light"
     },
     "output_type": "display_data"
    },
    {
     "data": {
      "image/png": "[encoded data removed]",
      "text/plain": [
       "<Figure size 1080x360 with 2 Axes>"
      ]
     },
     "metadata": {
      "needs_background": "light"
     },
     "output_type": "display_data"
    },
    {
     "data": {
      "image/png": "[encoded data removed]",
      "text/plain": [
       "<Figure size 1080x360 with 2 Axes>"
      ]
     },
     "metadata": {
      "needs_background": "light"
     },
     "output_type": "display_data"
    },
    {
     "data": {
      "image/png": "[encoded data removed]",
      "text/plain": [
       "<Figure size 1080x360 with 2 Axes>"
      ]
     },
     "metadata": {
      "needs_background": "light"
     },
     "output_type": "display_data"
    },
    {
     "data": {
      "image/png": "[encoded data removed]",
      "text/plain": [
       "<Figure size 1080x360 with 2 Axes>"
      ]
     },
     "metadata": {
      "needs_background": "light"
     },
     "output_type": "display_data"
    },
    {
     "data": {
      "image/png": "[encoded data removed]",
      "text/plain": [
       "<Figure size 1080x360 with 2 Axes>"
      ]
     },
     "metadata": {
      "needs_background": "light"
     },
     "output_type": "display_data"
    },
    {
     "data": {
      "image/png": "[encoded data removed]",
      "text/plain": [
       "<Figure size 1080x360 with 2 Axes>"
      ]
     },
     "metadata": {
      "needs_background": "light"
     },
     "output_type": "display_data"
    },
    {
     "data": {
      "image/png": "[encoded data removed]",
      "text/plain": [
       "<Figure size 1080x360 with 2 Axes>"
      ]
     },
     "metadata": {
      "needs_background": "light"
     },
     "output_type": "display_data"
    },
    {
     "data": {
      "image/png": "[encoded data removed]",
      "text/plain": [
       "<Figure size 1080x360 with 2 Axes>"
      ]
     },
     "metadata": {
      "needs_background": "light"
     },
     "output_type": "display_data"
    },
    {
     "data": {
      "image/png": "[encoded data removed]",
      "text/plain": [
       "<Figure size 1080x360 with 2 Axes>"
      ]
     },
     "metadata": {
      "needs_background": "light"
     },
     "output_type": "display_data"
    },
    {
     "data": {
      "image/png": "[encoded data removed]",
      "text/plain": [
       "<Figure size 1080x360 with 2 Axes>"
      ]
     },
     "metadata": {
      "needs_background": "light"
     },
     "output_type": "display_data"
    }
   ],
   "source": [
    "def compare_distribution(colname):\n",
    "    fig, axes = plt.subplots(nrows=1, ncols=2, figsize = (15,5))\n",
    "    sns.countplot(x=colname,data=data, ax=axes[0])\n",
    "    sns.countplot(x=colname, data=data_high_missing, ax=axes[1])\n",
    "    plt.show()\n",
    "\n",
    "for col in cols:\n",
    "    compare_distribution(col)"
   ]
  },
  {
   "cell_type": "markdown",
   "metadata": {},
   "source": [
    "#### Discussion 1.1.3: Assess Missing Data in Each Row\n",
    "\n",
    "For the most columns the distribution between the two datasets is different (i.e. for FINANZ_SPARER, FINANZ_ANLEGER, SEMIO_FAM). So we should mark the data as special."
   ]
  },
  {
   "cell_type": "markdown",
   "metadata": {},
   "source": [
    "### Step 1.2: Select and Re-Encode Features\n",
    "\n",
    "Checking for missing data isn't the only way in which you can prepare a dataset for analysis. Since the unsupervised learning techniques to be used will only work on data that is encoded numerically, you need to make a few encoding changes or additional assumptions to be able to make progress. In addition, while almost all of the values in the dataset are encoded using numbers, not all of them represent numeric values. Check the third column of the feature summary (`feat_info`) for a summary of types of measurement.\n",
    "- For numeric and interval data, these features can be kept without changes.\n",
    "- Most of the variables in the dataset are ordinal in nature. While ordinal values may technically be non-linear in spacing, make the simplifying assumption that the ordinal variables can be treated as being interval in nature (that is, kept without any changes).\n",
    "- Special handling may be necessary for the remaining two variable types: categorical, and 'mixed'.\n",
    "\n",
    "In the first two parts of this sub-step, you will perform an investigation of the categorical and mixed-type features and make a decision on each of them, whether you will keep, drop, or re-encode each. Then, in the last part, you will create a new data frame with only the selected and engineered columns.\n",
    "\n",
    "Data wrangling is often the trickiest part of the data analysis process, and there's a lot of it to be done here. But stick with it: once you're done with this step, you'll be ready to get to the machine learning parts of the project!"
   ]
  },
  {
   "cell_type": "code",
   "execution_count": 22,
   "metadata": {},
   "outputs": [
    {
     "data": {
      "text/plain": [
       "ordinal        49\n",
       "categorical    19\n",
       "mixed           6\n",
       "numeric         6\n",
       "Name: type, dtype: int64"
      ]
     },
     "execution_count": 22,
     "metadata": {},
     "output_type": "execute_result"
    }
   ],
   "source": [
    "# How many features are there of each data type?\n",
    "feat_info['type'].value_counts()"
   ]
  },
  {
   "cell_type": "markdown",
   "metadata": {},
   "source": [
    "#### Step 1.2.1: Re-Encode Categorical Features\n",
    "\n",
    "For categorical data, you would ordinarily need to encode the levels as dummy variables. Depending on the number of categories, perform one of the following:\n",
    "- For binary (two-level) categoricals that take numeric values, you can keep them without needing to do anything.\n",
    "- There is one binary variable that takes on non-numeric values. For this one, you need to re-encode the values as numbers or create a dummy variable.\n",
    "\n",
    "- For multi-level categoricals (three or more values), you can choose to encode the values using multiple dummy variables (e.g. via [OneHotEncoder](http://scikit-learn.org/stable/modules/generated/sklearn.preprocessing.OneHotEncoder.html)), or (to keep things straightforward) just drop them from the analysis. As always, document your choices in the Discussion section."
   ]
  },
  {
   "cell_type": "code",
   "execution_count": 23,
   "metadata": {},
   "outputs": [
    {
     "name": "stdout",
     "output_type": "stream",
     "text": [
      "Unique values for ANREDE_KZ: [2 1]\n",
      "Unique values for CJT_GESAMTTYP: [5. 3. 2. 4. 1. 6.]\n",
      "Unique values for FINANZTYP: [1 6 5 2 4 3]\n",
      "Unique values for GFK_URLAUBERTYP: [10.  1.  5. 12.  9.  3.  8. 11.  4.  2.  7.  6.]\n",
      "Unique values for GREEN_AVANTGARDE: [0 1]\n",
      "Unique values for LP_FAMILIE_FEIN: [ 5.  1. 10.  2.  7. 11.  8.  4.  6.  9.  3.]\n",
      "Unique values for LP_FAMILIE_GROB: [3. 1. 5. 2. 4.]\n",
      "Unique values for LP_STATUS_FEIN: [ 2.  3.  9.  4.  1. 10.  5.  8.  6.  7.]\n",
      "Unique values for LP_STATUS_GROB: [1. 2. 4. 5. 3.]\n",
      "Unique values for NATIONALITAET_KZ: [1. 3. 2.]\n",
      "Unique values for SHOPPER_TYP: [3. 2. 1. 0.]\n",
      "Unique values for SOHO_KZ: [1. 0.]\n",
      "Unique values for VERS_TYP: [2. 1.]\n",
      "Unique values for ZABEOTYP: [5 3 4 1 6 2]\n",
      "Unique values for KK_KUNDENTYP: [1. 3. 6. 4. 2. 5.]\n",
      "Unique values for GEBAEUDETYP: [8. 1. 3. 2. 6. 4. 5.]\n",
      "Unique values for OST_WEST_KZ: ['W' 'O']\n",
      "Unique values for CAMEO_DEUG_2015: ['8' '4' '2' '6' '1' '9' '5' '7' '3']\n",
      "Unique values for CAMEO_DEU_2015: ['8A' '4C' '2A' '6B' '8C' '4A' '2D' '1A' '1E' '9D' '5C' '8B' '7A' '5D'\n",
      " '9E' '9B' '1B' '3D' '4E' '4B' '3C' '5A' '7B' '9A' '6D' '6E' '2C' '7C'\n",
      " '9C' '7D' '5E' '1D' '8D' '6C' '6A' '5B' '4D' '3A' '2B' '7E' '3B' '6F'\n",
      " '5F' '1C']\n"
     ]
    },
    {
     "data": {
      "text/plain": [
       "['CJT_GESAMTTYP',\n",
       " 'FINANZTYP',\n",
       " 'GFK_URLAUBERTYP',\n",
       " 'LP_FAMILIE_FEIN',\n",
       " 'LP_FAMILIE_GROB',\n",
       " 'LP_STATUS_FEIN',\n",
       " 'LP_STATUS_GROB',\n",
       " 'NATIONALITAET_KZ',\n",
       " 'SHOPPER_TYP',\n",
       " 'ZABEOTYP',\n",
       " 'KK_KUNDENTYP',\n",
       " 'GEBAEUDETYP',\n",
       " 'OST_WEST_KZ',\n",
       " 'CAMEO_DEUG_2015',\n",
       " 'CAMEO_DEU_2015']"
      ]
     },
     "execution_count": 23,
     "metadata": {},
     "output_type": "execute_result"
    }
   ],
   "source": [
    "# Assess categorical variables: which are binary, which are multi-level, and\n",
    "# which one needs to be re-encoded?\n",
    "hot_encode = list()\n",
    "for _, row in feat_info[feat_info['type'] == 'categorical'].iterrows():\n",
    "    col = row['attribute']\n",
    "    unique_values = data[col].dropna().unique()\n",
    "    print(f\"Unique values for {col}: {unique_values}\")\n",
    "    if data[col].dtype == object:\n",
    "        hot_encode.append(col) \n",
    "    elif len(unique_values) > 2:\n",
    "        hot_encode.append(col)\n",
    "\n",
    "hot_encode\n"
   ]
  },
  {
   "cell_type": "code",
   "execution_count": 24,
   "metadata": {
    "scrolled": true
   },
   "outputs": [
    {
     "data": {
      "text/plain": [
       "['ALTERSKATEGORIE_GROB',\n",
       " 'ANREDE_KZ',\n",
       " 'FINANZ_MINIMALIST',\n",
       " 'FINANZ_SPARER',\n",
       " 'FINANZ_VORSORGER',\n",
       " 'FINANZ_ANLEGER',\n",
       " 'FINANZ_UNAUFFAELLIGER',\n",
       " 'FINANZ_HAUSBAUER',\n",
       " 'GREEN_AVANTGARDE',\n",
       " 'HEALTH_TYP',\n",
       " 'LP_LEBENSPHASE_FEIN',\n",
       " 'LP_LEBENSPHASE_GROB',\n",
       " 'PRAEGENDE_JUGENDJAHRE',\n",
       " 'RETOURTYP_BK_S',\n",
       " 'SEMIO_SOZ',\n",
       " 'SEMIO_FAM',\n",
       " 'SEMIO_REL',\n",
       " 'SEMIO_MAT',\n",
       " 'SEMIO_VERT',\n",
       " 'SEMIO_LUST',\n",
       " 'SEMIO_ERL',\n",
       " 'SEMIO_KULT',\n",
       " 'SEMIO_RAT',\n",
       " 'SEMIO_KRIT',\n",
       " 'SEMIO_DOM',\n",
       " 'SEMIO_KAEM',\n",
       " 'SEMIO_PFLICHT',\n",
       " 'SEMIO_TRADV',\n",
       " 'SOHO_KZ',\n",
       " 'VERS_TYP',\n",
       " 'ANZ_PERSONEN',\n",
       " 'ANZ_TITEL',\n",
       " 'HH_EINKOMMEN_SCORE',\n",
       " 'W_KEIT_KIND_HH',\n",
       " 'WOHNDAUER_2008',\n",
       " 'ANZ_HAUSHALTE_AKTIV',\n",
       " 'ANZ_HH_TITEL',\n",
       " 'KONSUMNAEHE',\n",
       " 'MIN_GEBAEUDEJAHR',\n",
       " 'WOHNLAGE',\n",
       " 'CAMEO_INTL_2015',\n",
       " 'KBA05_ANTG1',\n",
       " 'KBA05_ANTG2',\n",
       " 'KBA05_ANTG3',\n",
       " 'KBA05_ANTG4',\n",
       " 'KBA05_GBZ',\n",
       " 'BALLRAUM',\n",
       " 'EWDICHTE',\n",
       " 'INNENSTADT',\n",
       " 'GEBAEUDETYP_RASTER',\n",
       " 'KKK',\n",
       " 'MOBI_REGIO',\n",
       " 'ONLINE_AFFINITAET',\n",
       " 'REGIOTYP',\n",
       " 'KBA13_ANZAHL_PKW',\n",
       " 'PLZ8_ANTG1',\n",
       " 'PLZ8_ANTG2',\n",
       " 'PLZ8_ANTG3',\n",
       " 'PLZ8_ANTG4',\n",
       " 'PLZ8_BAUMAX',\n",
       " 'PLZ8_HHZ',\n",
       " 'PLZ8_GBZ',\n",
       " 'ARBEIT',\n",
       " 'ORTSGR_KLS9',\n",
       " 'RELAT_AB',\n",
       " 'CJT_GESAMTTYP__1.0',\n",
       " 'CJT_GESAMTTYP__2.0',\n",
       " 'CJT_GESAMTTYP__3.0',\n",
       " 'CJT_GESAMTTYP__4.0',\n",
       " 'CJT_GESAMTTYP__5.0',\n",
       " 'CJT_GESAMTTYP__6.0',\n",
       " 'FINANZTYP__1',\n",
       " 'FINANZTYP__2',\n",
       " 'FINANZTYP__3',\n",
       " 'FINANZTYP__4',\n",
       " 'FINANZTYP__5',\n",
       " 'FINANZTYP__6',\n",
       " 'GFK_URLAUBERTYP__1.0',\n",
       " 'GFK_URLAUBERTYP__2.0',\n",
       " 'GFK_URLAUBERTYP__3.0',\n",
       " 'GFK_URLAUBERTYP__4.0',\n",
       " 'GFK_URLAUBERTYP__5.0',\n",
       " 'GFK_URLAUBERTYP__6.0',\n",
       " 'GFK_URLAUBERTYP__7.0',\n",
       " 'GFK_URLAUBERTYP__8.0',\n",
       " 'GFK_URLAUBERTYP__9.0',\n",
       " 'GFK_URLAUBERTYP__10.0',\n",
       " 'GFK_URLAUBERTYP__11.0',\n",
       " 'GFK_URLAUBERTYP__12.0',\n",
       " 'LP_FAMILIE_FEIN__1.0',\n",
       " 'LP_FAMILIE_FEIN__2.0',\n",
       " 'LP_FAMILIE_FEIN__3.0',\n",
       " 'LP_FAMILIE_FEIN__4.0',\n",
       " 'LP_FAMILIE_FEIN__5.0',\n",
       " 'LP_FAMILIE_FEIN__6.0',\n",
       " 'LP_FAMILIE_FEIN__7.0',\n",
       " 'LP_FAMILIE_FEIN__8.0',\n",
       " 'LP_FAMILIE_FEIN__9.0',\n",
       " 'LP_FAMILIE_FEIN__10.0',\n",
       " 'LP_FAMILIE_FEIN__11.0',\n",
       " 'LP_FAMILIE_GROB__1.0',\n",
       " 'LP_FAMILIE_GROB__2.0',\n",
       " 'LP_FAMILIE_GROB__3.0',\n",
       " 'LP_FAMILIE_GROB__4.0',\n",
       " 'LP_FAMILIE_GROB__5.0',\n",
       " 'LP_STATUS_FEIN__1.0',\n",
       " 'LP_STATUS_FEIN__2.0',\n",
       " 'LP_STATUS_FEIN__3.0',\n",
       " 'LP_STATUS_FEIN__4.0',\n",
       " 'LP_STATUS_FEIN__5.0',\n",
       " 'LP_STATUS_FEIN__6.0',\n",
       " 'LP_STATUS_FEIN__7.0',\n",
       " 'LP_STATUS_FEIN__8.0',\n",
       " 'LP_STATUS_FEIN__9.0',\n",
       " 'LP_STATUS_FEIN__10.0',\n",
       " 'LP_STATUS_GROB__1.0',\n",
       " 'LP_STATUS_GROB__2.0',\n",
       " 'LP_STATUS_GROB__3.0',\n",
       " 'LP_STATUS_GROB__4.0',\n",
       " 'LP_STATUS_GROB__5.0',\n",
       " 'NATIONALITAET_KZ__1.0',\n",
       " 'NATIONALITAET_KZ__2.0',\n",
       " 'NATIONALITAET_KZ__3.0',\n",
       " 'SHOPPER_TYP__0.0',\n",
       " 'SHOPPER_TYP__1.0',\n",
       " 'SHOPPER_TYP__2.0',\n",
       " 'SHOPPER_TYP__3.0',\n",
       " 'ZABEOTYP__1',\n",
       " 'ZABEOTYP__2',\n",
       " 'ZABEOTYP__3',\n",
       " 'ZABEOTYP__4',\n",
       " 'ZABEOTYP__5',\n",
       " 'ZABEOTYP__6',\n",
       " 'KK_KUNDENTYP__1.0',\n",
       " 'KK_KUNDENTYP__2.0',\n",
       " 'KK_KUNDENTYP__3.0',\n",
       " 'KK_KUNDENTYP__4.0',\n",
       " 'KK_KUNDENTYP__5.0',\n",
       " 'KK_KUNDENTYP__6.0',\n",
       " 'GEBAEUDETYP__1.0',\n",
       " 'GEBAEUDETYP__2.0',\n",
       " 'GEBAEUDETYP__3.0',\n",
       " 'GEBAEUDETYP__4.0',\n",
       " 'GEBAEUDETYP__5.0',\n",
       " 'GEBAEUDETYP__6.0',\n",
       " 'GEBAEUDETYP__8.0',\n",
       " 'OST_WEST_KZ__O',\n",
       " 'OST_WEST_KZ__W',\n",
       " 'CAMEO_DEUG_2015__1',\n",
       " 'CAMEO_DEUG_2015__2',\n",
       " 'CAMEO_DEUG_2015__3',\n",
       " 'CAMEO_DEUG_2015__4',\n",
       " 'CAMEO_DEUG_2015__5',\n",
       " 'CAMEO_DEUG_2015__6',\n",
       " 'CAMEO_DEUG_2015__7',\n",
       " 'CAMEO_DEUG_2015__8',\n",
       " 'CAMEO_DEUG_2015__9',\n",
       " 'CAMEO_DEU_2015__1A',\n",
       " 'CAMEO_DEU_2015__1B',\n",
       " 'CAMEO_DEU_2015__1C',\n",
       " 'CAMEO_DEU_2015__1D',\n",
       " 'CAMEO_DEU_2015__1E',\n",
       " 'CAMEO_DEU_2015__2A',\n",
       " 'CAMEO_DEU_2015__2B',\n",
       " 'CAMEO_DEU_2015__2C',\n",
       " 'CAMEO_DEU_2015__2D',\n",
       " 'CAMEO_DEU_2015__3A',\n",
       " 'CAMEO_DEU_2015__3B',\n",
       " 'CAMEO_DEU_2015__3C',\n",
       " 'CAMEO_DEU_2015__3D',\n",
       " 'CAMEO_DEU_2015__4A',\n",
       " 'CAMEO_DEU_2015__4B',\n",
       " 'CAMEO_DEU_2015__4C',\n",
       " 'CAMEO_DEU_2015__4D',\n",
       " 'CAMEO_DEU_2015__4E',\n",
       " 'CAMEO_DEU_2015__5A',\n",
       " 'CAMEO_DEU_2015__5B',\n",
       " 'CAMEO_DEU_2015__5C',\n",
       " 'CAMEO_DEU_2015__5D',\n",
       " 'CAMEO_DEU_2015__5E',\n",
       " 'CAMEO_DEU_2015__5F',\n",
       " 'CAMEO_DEU_2015__6A',\n",
       " 'CAMEO_DEU_2015__6B',\n",
       " 'CAMEO_DEU_2015__6C',\n",
       " 'CAMEO_DEU_2015__6D',\n",
       " 'CAMEO_DEU_2015__6E',\n",
       " 'CAMEO_DEU_2015__6F',\n",
       " 'CAMEO_DEU_2015__7A',\n",
       " 'CAMEO_DEU_2015__7B',\n",
       " 'CAMEO_DEU_2015__7C',\n",
       " 'CAMEO_DEU_2015__7D',\n",
       " 'CAMEO_DEU_2015__7E',\n",
       " 'CAMEO_DEU_2015__8A',\n",
       " 'CAMEO_DEU_2015__8B',\n",
       " 'CAMEO_DEU_2015__8C',\n",
       " 'CAMEO_DEU_2015__8D',\n",
       " 'CAMEO_DEU_2015__9A',\n",
       " 'CAMEO_DEU_2015__9B',\n",
       " 'CAMEO_DEU_2015__9C',\n",
       " 'CAMEO_DEU_2015__9D',\n",
       " 'CAMEO_DEU_2015__9E']"
      ]
     },
     "execution_count": 24,
     "metadata": {},
     "output_type": "execute_result"
    }
   ],
   "source": [
    "# Re-encode categorical variable(s) to be kept in the analysis.\n",
    "data = pd.get_dummies(data=data, prefix_sep='__', columns=hot_encode)\n",
    "data.columns.to_list()"
   ]
  },
  {
   "cell_type": "markdown",
   "metadata": {},
   "source": [
    "#### Discussion 1.2.1: Re-Encode Categorical Features\n",
    "\n",
    "I decided to hot encode all the categorical columns as described (columns with strings or more than 2 unique values in a column). I was thinking to hot encode the categorical columns with only 2 distinct numeric values too (ANREDE_KZ, SOHO_KZ, VERS_TYP), but I then decided to not do that, because: it would increase the numbers of columns even more and I think this can be handled by a good scaling afterwards."
   ]
  },
  {
   "cell_type": "markdown",
   "metadata": {},
   "source": [
    "#### Step 1.2.2: Engineer Mixed-Type Features\n",
    "\n",
    "There are a handful of features that are marked as \"mixed\" in the feature summary that require special treatment in order to be included in the analysis. There are two in particular that deserve attention; the handling of the rest are up to your own choices:\n",
    "- \"PRAEGENDE_JUGENDJAHRE\" combines information on three dimensions: generation by decade, movement (mainstream vs. avantgarde), and nation (east vs. west). While there aren't enough levels to disentangle east from west, you should create two new variables to capture the other two dimensions: an interval-type variable for decade, and a binary variable for movement.\n",
    "- \"CAMEO_INTL_2015\" combines information on two axes: wealth and life stage. Break up the two-digit codes by their 'tens'-place and 'ones'-place digits into two new ordinal variables (which, for the purposes of this project, is equivalent to just treating them as their raw numeric values).\n",
    "- If you decide to keep or engineer new features around the other mixed-type features, make sure you note your steps in the Discussion section.\n",
    "\n",
    "Be sure to check `Data_Dictionary.md` for the details needed to finish these tasks."
   ]
  },
  {
   "cell_type": "code",
   "execution_count": 25,
   "metadata": {},
   "outputs": [
    {
     "data": {
      "text/html": [
       "<div>\n",
       "<style scoped>\n",
       "    .dataframe tbody tr th:only-of-type {\n",
       "        vertical-align: middle;\n",
       "    }\n",
       "\n",
       "    .dataframe tbody tr th {\n",
       "        vertical-align: top;\n",
       "    }\n",
       "\n",
       "    .dataframe thead th {\n",
       "        text-align: right;\n",
       "    }\n",
       "</style>\n",
       "<table border=\"1\" class=\"dataframe\">\n",
       "  <thead>\n",
       "    <tr style=\"text-align: right;\">\n",
       "      <th></th>\n",
       "      <th>attribute</th>\n",
       "      <th>information_level</th>\n",
       "      <th>type</th>\n",
       "      <th>missing_or_unknown</th>\n",
       "    </tr>\n",
       "  </thead>\n",
       "  <tbody>\n",
       "    <tr>\n",
       "      <th>15</th>\n",
       "      <td>LP_LEBENSPHASE_FEIN</td>\n",
       "      <td>person</td>\n",
       "      <td>mixed</td>\n",
       "      <td>[0]</td>\n",
       "    </tr>\n",
       "    <tr>\n",
       "      <th>16</th>\n",
       "      <td>LP_LEBENSPHASE_GROB</td>\n",
       "      <td>person</td>\n",
       "      <td>mixed</td>\n",
       "      <td>[0]</td>\n",
       "    </tr>\n",
       "    <tr>\n",
       "      <th>22</th>\n",
       "      <td>PRAEGENDE_JUGENDJAHRE</td>\n",
       "      <td>person</td>\n",
       "      <td>mixed</td>\n",
       "      <td>[-1,0]</td>\n",
       "    </tr>\n",
       "    <tr>\n",
       "      <th>56</th>\n",
       "      <td>WOHNLAGE</td>\n",
       "      <td>building</td>\n",
       "      <td>mixed</td>\n",
       "      <td>[-1]</td>\n",
       "    </tr>\n",
       "    <tr>\n",
       "      <th>59</th>\n",
       "      <td>CAMEO_INTL_2015</td>\n",
       "      <td>microcell_rr4</td>\n",
       "      <td>mixed</td>\n",
       "      <td>[-1,XX]</td>\n",
       "    </tr>\n",
       "    <tr>\n",
       "      <th>79</th>\n",
       "      <td>PLZ8_BAUMAX</td>\n",
       "      <td>macrocell_plz8</td>\n",
       "      <td>mixed</td>\n",
       "      <td>[-1,0]</td>\n",
       "    </tr>\n",
       "  </tbody>\n",
       "</table>\n",
       "</div>"
      ],
      "text/plain": [
       "                attribute information_level   type missing_or_unknown\n",
       "15    LP_LEBENSPHASE_FEIN            person  mixed                [0]\n",
       "16    LP_LEBENSPHASE_GROB            person  mixed                [0]\n",
       "22  PRAEGENDE_JUGENDJAHRE            person  mixed             [-1,0]\n",
       "56               WOHNLAGE          building  mixed               [-1]\n",
       "59        CAMEO_INTL_2015     microcell_rr4  mixed            [-1,XX]\n",
       "79            PLZ8_BAUMAX    macrocell_plz8  mixed             [-1,0]"
      ]
     },
     "execution_count": 25,
     "metadata": {},
     "output_type": "execute_result"
    }
   ],
   "source": [
    "feat_info[feat_info['type'] == 'mixed']"
   ]
  },
  {
   "cell_type": "code",
   "execution_count": 26,
   "metadata": {},
   "outputs": [],
   "source": [
    "# Investigate \"PRAEGENDE_JUGENDJAHRE\" and engineer two new variables.\n",
    "decade_map = {\n",
    "    1:40, 2:40,\n",
    "    3:50, 4:50,\n",
    "    5:60, 6:60, 7:60,\n",
    "    8:70, 9:70,\n",
    "    10:80, 11:80, 12:80, 13:80,\n",
    "    14:90, 15:90\n",
    "}\n",
    "\n",
    "movement_map = {\n",
    "    1:0, 3:0, 5:0, 8:0, 10:0, 12:0, 14:0,\n",
    "    2:1, 4:1, 6:1, 7:1, 9:1, 11:1, 13:1, 15:1\n",
    "}\n",
    "\n",
    "data.loc[:,'PRAEGENDE_JUGENDJAHRE_decade'] = data.apply(lambda row : decade_map.get(row['PRAEGENDE_JUGENDJAHRE'], np.nan), axis=1)\n",
    "data.loc[:,'PRAEGENDE_JUGENDJAHRE_movement'] = data.apply(lambda row : movement_map.get(row['PRAEGENDE_JUGENDJAHRE'], np.nan), axis=1)\n",
    "data.drop('PRAEGENDE_JUGENDJAHRE', axis=1, inplace=True)"
   ]
  },
  {
   "cell_type": "code",
   "execution_count": 27,
   "metadata": {},
   "outputs": [],
   "source": [
    "# Investigate \"CAMEO_INTL_2015\" and engineer two new variables.\n",
    "def split_c_i_2015(row):\n",
    "    value = row['CAMEO_INTL_2015']\n",
    "    if pd.isna(value):\n",
    "        return np.nan, np.nan\n",
    "    elif len(value) != 2:\n",
    "        return np.nan, np.nan\n",
    "    elif not value.isdigit():\n",
    "        return np.nan, np.nan\n",
    "    else:\n",
    "        return int(value[0]), int(value[1])\n",
    "\n",
    "def get_wealth_status(row):\n",
    "    return split_c_i_2015(row)[0]\n",
    "\n",
    "def get_life_status(row):\n",
    "    return split_c_i_2015(row)[1]\n",
    "\n",
    "data.loc[:,'CAMEO_INTL_2015_wealth'] = data.apply(get_wealth_status, axis=1)\n",
    "data.loc[:,'CAMEO_INTL_2015_life'] = data.apply(get_life_status, axis=1)\n",
    "data.drop('CAMEO_INTL_2015', axis=1, inplace=True)"
   ]
  },
  {
   "cell_type": "code",
   "execution_count": 28,
   "metadata": {},
   "outputs": [],
   "source": [
    "data.drop(['LP_LEBENSPHASE_FEIN','LP_LEBENSPHASE_GROB','WOHNLAGE','PLZ8_BAUMAX'], axis=1, inplace=True)"
   ]
  },
  {
   "cell_type": "markdown",
   "metadata": {},
   "source": [
    "#### Discussion 1.2.2: Engineer Mixed-Type Features\n",
    "\n",
    "I decided to transform the columns as described: Therefore I splitted the two columns PRAEGENDE_JUGENDJAHRE and CAMEO_INTL_2015 into 2 new columns each. Due to the already large amount of existing columns and the semantiv overlap with existing columns I decided to delete the other 4 columns of type mixed and to not reengineer them (this might be an option for a later optimization or double check)"
   ]
  },
  {
   "cell_type": "markdown",
   "metadata": {},
   "source": [
    "#### Step 1.2.3: Complete Feature Selection\n",
    "\n",
    "In order to finish this step up, you need to make sure that your data frame now only has the columns that you want to keep. To summarize, the dataframe should consist of the following:\n",
    "- All numeric, interval, and ordinal type columns from the original dataset.\n",
    "- Binary categorical features (all numerically-encoded).\n",
    "- Engineered features from other multi-level categorical features and mixed features.\n",
    "\n",
    "Make sure that for any new columns that you have engineered, that you've excluded the original columns from the final dataset. Otherwise, their values will interfere with the analysis later on the project. For example, you should not keep \"PRAEGENDE_JUGENDJAHRE\", since its values won't be useful for the algorithm: only the values derived from it in the engineered features you created should be retained. As a reminder, your data should only be from **the subset with few or no missing values**."
   ]
  },
  {
   "cell_type": "code",
   "execution_count": 29,
   "metadata": {},
   "outputs": [],
   "source": [
    "# If there are other re-engineering tasks you need to perform, make sure you\n",
    "# take care of them here. (Dealing with missing data will come in step 2.1.)\n",
    "data = data[sorted(data.columns)]"
   ]
  },
  {
   "cell_type": "code",
   "execution_count": 30,
   "metadata": {},
   "outputs": [
    {
     "name": "stdout",
     "output_type": "stream",
     "text": [
      "ALTERSKATEGORIE_GROB: float64\n",
      "ANREDE_KZ: int64\n",
      "ANZ_HAUSHALTE_AKTIV: float64\n",
      "ANZ_HH_TITEL: float64\n",
      "ANZ_PERSONEN: float64\n",
      "ANZ_TITEL: float64\n",
      "ARBEIT: float64\n",
      "BALLRAUM: float64\n",
      "CAMEO_DEUG_2015__1: uint8\n",
      "CAMEO_DEUG_2015__2: uint8\n",
      "CAMEO_DEUG_2015__3: uint8\n",
      "CAMEO_DEUG_2015__4: uint8\n",
      "CAMEO_DEUG_2015__5: uint8\n",
      "CAMEO_DEUG_2015__6: uint8\n",
      "CAMEO_DEUG_2015__7: uint8\n",
      "CAMEO_DEUG_2015__8: uint8\n",
      "CAMEO_DEUG_2015__9: uint8\n",
      "CAMEO_DEU_2015__1A: uint8\n",
      "CAMEO_DEU_2015__1B: uint8\n",
      "CAMEO_DEU_2015__1C: uint8\n",
      "CAMEO_DEU_2015__1D: uint8\n",
      "CAMEO_DEU_2015__1E: uint8\n",
      "CAMEO_DEU_2015__2A: uint8\n",
      "CAMEO_DEU_2015__2B: uint8\n",
      "CAMEO_DEU_2015__2C: uint8\n",
      "CAMEO_DEU_2015__2D: uint8\n",
      "CAMEO_DEU_2015__3A: uint8\n",
      "CAMEO_DEU_2015__3B: uint8\n",
      "CAMEO_DEU_2015__3C: uint8\n",
      "CAMEO_DEU_2015__3D: uint8\n",
      "CAMEO_DEU_2015__4A: uint8\n",
      "CAMEO_DEU_2015__4B: uint8\n",
      "CAMEO_DEU_2015__4C: uint8\n",
      "CAMEO_DEU_2015__4D: uint8\n",
      "CAMEO_DEU_2015__4E: uint8\n",
      "CAMEO_DEU_2015__5A: uint8\n",
      "CAMEO_DEU_2015__5B: uint8\n",
      "CAMEO_DEU_2015__5C: uint8\n",
      "CAMEO_DEU_2015__5D: uint8\n",
      "CAMEO_DEU_2015__5E: uint8\n",
      "CAMEO_DEU_2015__5F: uint8\n",
      "CAMEO_DEU_2015__6A: uint8\n",
      "CAMEO_DEU_2015__6B: uint8\n",
      "CAMEO_DEU_2015__6C: uint8\n",
      "CAMEO_DEU_2015__6D: uint8\n",
      "CAMEO_DEU_2015__6E: uint8\n",
      "CAMEO_DEU_2015__6F: uint8\n",
      "CAMEO_DEU_2015__7A: uint8\n",
      "CAMEO_DEU_2015__7B: uint8\n",
      "CAMEO_DEU_2015__7C: uint8\n",
      "CAMEO_DEU_2015__7D: uint8\n",
      "CAMEO_DEU_2015__7E: uint8\n",
      "CAMEO_DEU_2015__8A: uint8\n",
      "CAMEO_DEU_2015__8B: uint8\n",
      "CAMEO_DEU_2015__8C: uint8\n",
      "CAMEO_DEU_2015__8D: uint8\n",
      "CAMEO_DEU_2015__9A: uint8\n",
      "CAMEO_DEU_2015__9B: uint8\n",
      "CAMEO_DEU_2015__9C: uint8\n",
      "CAMEO_DEU_2015__9D: uint8\n",
      "CAMEO_DEU_2015__9E: uint8\n",
      "CAMEO_INTL_2015_life: float64\n",
      "CAMEO_INTL_2015_wealth: float64\n",
      "CJT_GESAMTTYP__1.0: uint8\n",
      "CJT_GESAMTTYP__2.0: uint8\n",
      "CJT_GESAMTTYP__3.0: uint8\n",
      "CJT_GESAMTTYP__4.0: uint8\n",
      "CJT_GESAMTTYP__5.0: uint8\n",
      "CJT_GESAMTTYP__6.0: uint8\n",
      "EWDICHTE: float64\n",
      "FINANZTYP__1: uint8\n",
      "FINANZTYP__2: uint8\n",
      "FINANZTYP__3: uint8\n",
      "FINANZTYP__4: uint8\n",
      "FINANZTYP__5: uint8\n",
      "FINANZTYP__6: uint8\n",
      "FINANZ_ANLEGER: int64\n",
      "FINANZ_HAUSBAUER: int64\n",
      "FINANZ_MINIMALIST: int64\n",
      "FINANZ_SPARER: int64\n",
      "FINANZ_UNAUFFAELLIGER: int64\n",
      "FINANZ_VORSORGER: int64\n",
      "GEBAEUDETYP_RASTER: float64\n",
      "GEBAEUDETYP__1.0: uint8\n",
      "GEBAEUDETYP__2.0: uint8\n",
      "GEBAEUDETYP__3.0: uint8\n",
      "GEBAEUDETYP__4.0: uint8\n",
      "GEBAEUDETYP__5.0: uint8\n",
      "GEBAEUDETYP__6.0: uint8\n",
      "GEBAEUDETYP__8.0: uint8\n",
      "GFK_URLAUBERTYP__1.0: uint8\n",
      "GFK_URLAUBERTYP__10.0: uint8\n",
      "GFK_URLAUBERTYP__11.0: uint8\n",
      "GFK_URLAUBERTYP__12.0: uint8\n",
      "GFK_URLAUBERTYP__2.0: uint8\n",
      "GFK_URLAUBERTYP__3.0: uint8\n",
      "GFK_URLAUBERTYP__4.0: uint8\n",
      "GFK_URLAUBERTYP__5.0: uint8\n",
      "GFK_URLAUBERTYP__6.0: uint8\n",
      "GFK_URLAUBERTYP__7.0: uint8\n",
      "GFK_URLAUBERTYP__8.0: uint8\n",
      "GFK_URLAUBERTYP__9.0: uint8\n",
      "GREEN_AVANTGARDE: int64\n",
      "HEALTH_TYP: float64\n",
      "HH_EINKOMMEN_SCORE: float64\n",
      "INNENSTADT: float64\n",
      "KBA05_ANTG1: float64\n",
      "KBA05_ANTG2: float64\n",
      "KBA05_ANTG3: float64\n",
      "KBA05_ANTG4: float64\n",
      "KBA05_GBZ: float64\n",
      "KBA13_ANZAHL_PKW: float64\n",
      "KKK: float64\n",
      "KK_KUNDENTYP__1.0: uint8\n",
      "KK_KUNDENTYP__2.0: uint8\n",
      "KK_KUNDENTYP__3.0: uint8\n",
      "KK_KUNDENTYP__4.0: uint8\n",
      "KK_KUNDENTYP__5.0: uint8\n",
      "KK_KUNDENTYP__6.0: uint8\n",
      "KONSUMNAEHE: float64\n",
      "LP_FAMILIE_FEIN__1.0: uint8\n",
      "LP_FAMILIE_FEIN__10.0: uint8\n",
      "LP_FAMILIE_FEIN__11.0: uint8\n",
      "LP_FAMILIE_FEIN__2.0: uint8\n",
      "LP_FAMILIE_FEIN__3.0: uint8\n",
      "LP_FAMILIE_FEIN__4.0: uint8\n",
      "LP_FAMILIE_FEIN__5.0: uint8\n",
      "LP_FAMILIE_FEIN__6.0: uint8\n",
      "LP_FAMILIE_FEIN__7.0: uint8\n",
      "LP_FAMILIE_FEIN__8.0: uint8\n",
      "LP_FAMILIE_FEIN__9.0: uint8\n",
      "LP_FAMILIE_GROB__1.0: uint8\n",
      "LP_FAMILIE_GROB__2.0: uint8\n",
      "LP_FAMILIE_GROB__3.0: uint8\n",
      "LP_FAMILIE_GROB__4.0: uint8\n",
      "LP_FAMILIE_GROB__5.0: uint8\n",
      "LP_STATUS_FEIN__1.0: uint8\n",
      "LP_STATUS_FEIN__10.0: uint8\n",
      "LP_STATUS_FEIN__2.0: uint8\n",
      "LP_STATUS_FEIN__3.0: uint8\n",
      "LP_STATUS_FEIN__4.0: uint8\n",
      "LP_STATUS_FEIN__5.0: uint8\n",
      "LP_STATUS_FEIN__6.0: uint8\n",
      "LP_STATUS_FEIN__7.0: uint8\n",
      "LP_STATUS_FEIN__8.0: uint8\n",
      "LP_STATUS_FEIN__9.0: uint8\n",
      "LP_STATUS_GROB__1.0: uint8\n",
      "LP_STATUS_GROB__2.0: uint8\n",
      "LP_STATUS_GROB__3.0: uint8\n",
      "LP_STATUS_GROB__4.0: uint8\n",
      "LP_STATUS_GROB__5.0: uint8\n",
      "MIN_GEBAEUDEJAHR: float64\n",
      "MOBI_REGIO: float64\n",
      "NATIONALITAET_KZ__1.0: uint8\n",
      "NATIONALITAET_KZ__2.0: uint8\n",
      "NATIONALITAET_KZ__3.0: uint8\n",
      "ONLINE_AFFINITAET: float64\n",
      "ORTSGR_KLS9: float64\n",
      "OST_WEST_KZ__O: uint8\n",
      "OST_WEST_KZ__W: uint8\n",
      "PLZ8_ANTG1: float64\n",
      "PLZ8_ANTG2: float64\n",
      "PLZ8_ANTG3: float64\n",
      "PLZ8_ANTG4: float64\n",
      "PLZ8_GBZ: float64\n",
      "PLZ8_HHZ: float64\n",
      "PRAEGENDE_JUGENDJAHRE_decade: float64\n",
      "PRAEGENDE_JUGENDJAHRE_movement: float64\n",
      "REGIOTYP: float64\n",
      "RELAT_AB: float64\n",
      "RETOURTYP_BK_S: float64\n",
      "SEMIO_DOM: int64\n",
      "SEMIO_ERL: int64\n",
      "SEMIO_FAM: int64\n",
      "SEMIO_KAEM: int64\n",
      "SEMIO_KRIT: int64\n",
      "SEMIO_KULT: int64\n",
      "SEMIO_LUST: int64\n",
      "SEMIO_MAT: int64\n",
      "SEMIO_PFLICHT: int64\n",
      "SEMIO_RAT: int64\n",
      "SEMIO_REL: int64\n",
      "SEMIO_SOZ: int64\n",
      "SEMIO_TRADV: int64\n",
      "SEMIO_VERT: int64\n",
      "SHOPPER_TYP__0.0: uint8\n",
      "SHOPPER_TYP__1.0: uint8\n",
      "SHOPPER_TYP__2.0: uint8\n",
      "SHOPPER_TYP__3.0: uint8\n",
      "SOHO_KZ: float64\n",
      "VERS_TYP: float64\n",
      "WOHNDAUER_2008: float64\n",
      "W_KEIT_KIND_HH: float64\n",
      "ZABEOTYP__1: uint8\n",
      "ZABEOTYP__2: uint8\n",
      "ZABEOTYP__3: uint8\n",
      "ZABEOTYP__4: uint8\n",
      "ZABEOTYP__5: uint8\n",
      "ZABEOTYP__6: uint8\n"
     ]
    }
   ],
   "source": [
    "# Do whatever you need to in order to ensure that the dataframe only contains\n",
    "# the columns that should be passed to the algorithm functions.\n",
    "for col in data:\n",
    "    print(f\"{col}: {data[col].dtype}\")\n"
   ]
  },
  {
   "cell_type": "markdown",
   "metadata": {},
   "source": [
    "### Step 1.3: Create a Cleaning Function\n",
    "\n",
    "Even though you've finished cleaning up the general population demographics data, it's important to look ahead to the future and realize that you'll need to perform the same cleaning steps on the customer demographics data. In this substep, complete the function below to execute the main feature selection, encoding, and re-engineering steps you performed above. Then, when it comes to looking at the customer data in Step 3, you can just run this function on that DataFrame to get the trimmed dataset in a single step."
   ]
  },
  {
   "cell_type": "code",
   "execution_count": 31,
   "metadata": {},
   "outputs": [],
   "source": [
    "# helper function that tries to cast to an int\n",
    "def try_int(s):\n",
    "    try:\n",
    "        return int(s)\n",
    "    except ValueError:\n",
    "        return s\n",
    "\n",
    "# Helper function to get unknown values by a column name\n",
    "def get_unknown_values(col, df_info):\n",
    "    unknown_values = []\n",
    "    missing_or_unknown = df_info[df_info['attribute'] == col]['missing_or_unknown'].iloc[0]\n",
    "    missing_or_unknown = missing_or_unknown.replace('[','')\n",
    "    missing_or_unknown = missing_or_unknown.replace(']','')\n",
    "    if len(missing_or_unknown) > 0:\n",
    "        unknown_values = missing_or_unknown.split(',')\n",
    "        unknown_values = [try_int(u) for u in unknown_values]\n",
    "    return unknown_values\n",
    "\n",
    "# Helper function to get features that has to be hot encoded\n",
    "def get_hot_endoce(df, df_info):\n",
    "    hot_encode = list()\n",
    "    for _, row in df_info[df_info['type'] == 'categorical'].iterrows():\n",
    "        col = row['attribute']\n",
    "        if col in df:\n",
    "            unique_values = df[col].dropna().unique()\n",
    "            if df[col].dtype == object:\n",
    "                hot_encode.append(col) \n",
    "            elif len(unique_values) > 2:\n",
    "                hot_encode.append(col)\n",
    "    return hot_encode\n",
    "\n",
    "def clean_data(df, df_info):\n",
    "    \"\"\"\n",
    "    Perform feature trimming, re-encoding, and engineering for demographics\n",
    "    data\n",
    "    \n",
    "    INPUT: Demographics DataFrame\n",
    "    OUTPUT: Trimmed and cleaned demographics DataFrame\n",
    "    \"\"\"\n",
    "    \n",
    "    # Put in code here to execute all main cleaning steps:\n",
    "    # convert missing value codes into NaNs, ...\n",
    "    for col in df:\n",
    "        unknown_values = get_unknown_values(col, df_info)\n",
    "        df[col] = df[col].apply(lambda v : np.nan if v in unknown_values else v)\n",
    "    \n",
    "    # remove selected columns and rows, ...\n",
    "    df.drop(['AGER_TYP', 'GEBURTSJAHR', 'TITEL_KZ', 'ALTER_HH', 'KBA05_BAUMAX'], axis=1, inplace=True)\n",
    "    df = df[df.isna().sum(axis=1) <= 1]\n",
    "    \n",
    "    # select, re-encode, and engineer column values.\n",
    "    hot_encode = get_hot_endoce(df, df_info)\n",
    "    df = pd.get_dummies(data=df, prefix_sep='__', columns=hot_encode)\n",
    "    \n",
    "    df.loc[:,'PRAEGENDE_JUGENDJAHRE_decade'] = df.apply(lambda row : decade_map.get(row['PRAEGENDE_JUGENDJAHRE'], np.nan), axis=1)\n",
    "    df.loc[:,'PRAEGENDE_JUGENDJAHRE_movement'] = df.apply(lambda row : movement_map.get(row['PRAEGENDE_JUGENDJAHRE'], np.nan), axis=1)\n",
    "    df.drop('PRAEGENDE_JUGENDJAHRE', axis=1, inplace=True)\n",
    "    \n",
    "    df.loc[:,'CAMEO_INTL_2015_wealth'] = df.apply(get_wealth_status, axis=1)\n",
    "    df.loc[:,'CAMEO_INTL_2015_life'] = df.apply(get_life_status, axis=1)\n",
    "    df.drop('CAMEO_INTL_2015', axis=1, inplace=True)\n",
    "    \n",
    "    df.drop(['LP_LEBENSPHASE_FEIN','LP_LEBENSPHASE_GROB','WOHNLAGE','PLZ8_BAUMAX'], axis=1, inplace=True)\n",
    "    \n",
    "    #Add a missing column that is created during hot encoding, but a value is missing in this subset\n",
    "    if 'GEBAEUDETYP__5.0' not in df:\n",
    "        df['GEBAEUDETYP__5.0'] = 0\n",
    "    \n",
    "    df = df[sorted(df.columns)]\n",
    "    # Return the cleaned dataframe.\n",
    "    return df\n",
    "    \n",
    "    "
   ]
  },
  {
   "cell_type": "markdown",
   "metadata": {},
   "source": [
    "## Step 2: Feature Transformation\n",
    "\n",
    "### Step 2.1: Apply Feature Scaling\n",
    "\n",
    "Before we apply dimensionality reduction techniques to the data, we need to perform feature scaling so that the principal component vectors are not influenced by the natural differences in scale for features. Starting from this part of the project, you'll want to keep an eye on the [API reference page for sklearn](http://scikit-learn.org/stable/modules/classes.html) to help you navigate to all of the classes and functions that you'll need. In this substep, you'll need to check the following:\n",
    "\n",
    "- sklearn requires that data not have missing values in order for its estimators to work properly. So, before applying the scaler to your data, make sure that you've cleaned the DataFrame of the remaining missing values. This can be as simple as just removing all data points with missing data, or applying an [Imputer](https://scikit-learn.org/0.16/modules/generated/sklearn.preprocessing.Imputer.html) to replace all missing values. You might also try a more complicated procedure where you temporarily remove missing values in order to compute the scaling parameters before re-introducing those missing values and applying imputation. Think about how much missing data you have and what possible effects each approach might have on your analysis, and justify your decision in the discussion section below.\n",
    "- For the actual scaling function, a [StandardScaler](http://scikit-learn.org/stable/modules/generated/sklearn.preprocessing.StandardScaler.html) instance is suggested, scaling each feature to mean 0 and standard deviation 1.\n",
    "- For these classes, you can make use of the `.fit_transform()` method to both fit a procedure to the data as well as apply the transformation to the data at the same time. Don't forget to keep the fit sklearn objects handy, since you'll be applying them to the customer demographics data towards the end of the project."
   ]
  },
  {
   "cell_type": "code",
   "execution_count": 32,
   "metadata": {},
   "outputs": [],
   "source": [
    "features = data.copy()"
   ]
  },
  {
   "cell_type": "code",
   "execution_count": 33,
   "metadata": {},
   "outputs": [],
   "source": [
    "# If you've not yet cleaned the dataset of all NaN values, then investigate and\n",
    "# do that now.\n",
    "from sklearn.impute import SimpleImputer\n",
    "imputer = SimpleImputer(strategy='median')\n",
    "features = imputer.fit_transform(features)"
   ]
  },
  {
   "cell_type": "code",
   "execution_count": 34,
   "metadata": {},
   "outputs": [],
   "source": [
    "# Apply feature scaling to the general population demographics data.\n",
    "from sklearn.preprocessing import StandardScaler\n",
    "scaler = StandardScaler()\n",
    "features = scaler.fit_transform(features)"
   ]
  },
  {
   "cell_type": "markdown",
   "metadata": {},
   "source": [
    "### Discussion 2.1: Apply Feature Scaling\n",
    "\n",
    "I replaced the missing values with the median of the values from the column. I choose this strategy over the mean, because it is more robust when there are some outliers. The features are then scaled using the StandardScaler."
   ]
  },
  {
   "cell_type": "markdown",
   "metadata": {},
   "source": [
    "### Step 2.2: Perform Dimensionality Reduction\n",
    "\n",
    "On your scaled data, you are now ready to apply dimensionality reduction techniques.\n",
    "\n",
    "- Use sklearn's [PCA](http://scikit-learn.org/stable/modules/generated/sklearn.decomposition.PCA.html) class to apply principal component analysis on the data, thus finding the vectors of maximal variance in the data. To start, you should not set any parameters (so all components are computed) or set a number of components that is at least half the number of features (so there's enough features to see the general trend in variability).\n",
    "- Check out the ratio of variance explained by each principal component as well as the cumulative variance explained. Try plotting the cumulative or sequential values using matplotlib's [`plot()`](https://matplotlib.org/api/_as_gen/matplotlib.pyplot.plot.html) function. Based on what you find, select a value for the number of transformed features you'll retain for the clustering part of the project.\n",
    "- Once you've made a choice for the number of components to keep, make sure you re-fit a PCA instance to perform the decided-on transformation."
   ]
  },
  {
   "cell_type": "code",
   "execution_count": 35,
   "metadata": {},
   "outputs": [
    {
     "data": {
      "text/plain": [
       "PCA()"
      ]
     },
     "execution_count": 35,
     "metadata": {},
     "output_type": "execute_result"
    }
   ],
   "source": [
    "# Apply PCA to the data.\n",
    "from sklearn.decomposition import PCA\n",
    "pca = PCA()\n",
    "pca.fit(features)\n"
   ]
  },
  {
   "cell_type": "code",
   "execution_count": 36,
   "metadata": {},
   "outputs": [],
   "source": [
    "# taken from https://github.com/ksatola/Udacity-Data-Scientist-Nanodegree-Unsupervised-Learning/blob/master/04-Dimensionality-Reduction-and-PCA/helper_functions.py\n",
    "# adjusted some representation config\n",
    "def scree_plot(pca):\n",
    "    '''\n",
    "    Creates a scree plot associated with the principal components \n",
    "    \n",
    "    INPUT: pca - the result of instantian of PCA in scikit learn\n",
    "            \n",
    "    OUTPUT:\n",
    "            None\n",
    "    '''\n",
    "    num_components=len(pca.explained_variance_ratio_)\n",
    "    ind = np.arange(num_components)\n",
    "    vals = pca.explained_variance_ratio_\n",
    " \n",
    "    plt.figure(figsize=(20, 10))\n",
    "    ax = plt.subplot(111)\n",
    "    cumvals = np.cumsum(vals)\n",
    "    ax.bar(ind, vals)\n",
    "    ax.plot(ind, cumvals)\n",
    "    for i in range(num_components):\n",
    "        ax.annotate(r\"%s%%\" % ((str(vals[i]*100)[:2])), (ind[i]+0.2, vals[i]), va=\"bottom\", ha=\"center\", fontsize=5)\n",
    " \n",
    "    ax.xaxis.set_tick_params(width=0)\n",
    "    ax.yaxis.set_tick_params(width=2, length=12)\n",
    " \n",
    "    ax.set_xlabel(\"Principal Component\")\n",
    "    ax.set_ylabel(\"Variance Explained (%)\")\n",
    "    plt.title('Explained Variance Per Principal Component')"
   ]
  },
  {
   "cell_type": "code",
   "execution_count": 37,
   "metadata": {},
   "outputs": [
    {
     "data": {
      "image/png": "[encoded data removed]",
      "text/plain": [
       "<Figure size 1440x720 with 1 Axes>"
      ]
     },
     "metadata": {
      "needs_background": "light"
     },
     "output_type": "display_data"
    }
   ],
   "source": [
    "scree_plot(pca)"
   ]
  },
  {
   "cell_type": "code",
   "execution_count": 38,
   "metadata": {},
   "outputs": [
    {
     "data": {
      "image/png": "[encoded data removed]",
      "text/plain": [
       "<Figure size 1440x720 with 1 Axes>"
      ]
     },
     "metadata": {
      "needs_background": "light"
     },
     "output_type": "display_data"
    }
   ],
   "source": [
    "# Re-apply PCA to the data while selecting for number of components to retain.\n",
    "pca_110 = PCA(110)\n",
    "features = pca_110.fit_transform(features)\n",
    "scree_plot(pca_110)\n"
   ]
  },
  {
   "cell_type": "markdown",
   "metadata": {},
   "source": [
    "### Discussion 2.2: Perform Dimensionality Reduction\n",
    "\n",
    "After investigating the variance per principal component, I decided to use 110 principal components. The initial components are almost halved, while keeping around 90% of the variance."
   ]
  },
  {
   "cell_type": "markdown",
   "metadata": {},
   "source": [
    "### Step 2.3: Interpret Principal Components\n",
    "\n",
    "Now that we have our transformed principal components, it's a nice idea to check out the weight of each variable on the first few components to see if they can be interpreted in some fashion.\n",
    "\n",
    "As a reminder, each principal component is a unit vector that points in the direction of highest variance (after accounting for the variance captured by earlier principal components). The further a weight is from zero, the more the principal component is in the direction of the corresponding feature. If two features have large weights of the same sign (both positive or both negative), then increases in one tend expect to be associated with increases in the other. To contrast, features with different signs can be expected to show a negative correlation: increases in one variable should result in a decrease in the other.\n",
    "\n",
    "- To investigate the features, you should map each weight to their corresponding feature name, then sort the features according to weight. The most interesting features for each principal component, then, will be those at the beginning and end of the sorted list. Use the data dictionary document to help you understand these most prominent features, their relationships, and what a positive or negative value on the principal component might indicate.\n",
    "- You should investigate and interpret feature associations from the first three principal components in this substep. To help facilitate this, you should write a function that you can call at any time to print the sorted list of feature weights, for the *i*-th principal component. This might come in handy in the next step of the project, when you interpret the tendencies of the discovered clusters."
   ]
  },
  {
   "cell_type": "code",
   "execution_count": 39,
   "metadata": {},
   "outputs": [
    {
     "name": "stdout",
     "output_type": "stream",
     "text": [
      "LP_STATUS_GROB__1.0       0.196356\n",
      "HH_EINKOMMEN_SCORE        0.186950\n",
      "CAMEO_INTL_2015_wealth    0.186429\n",
      "PLZ8_ANTG3                0.181724\n",
      "PLZ8_ANTG4                0.175980\n",
      "                            ...   \n",
      "KBA05_GBZ                -0.181315\n",
      "PLZ8_ANTG1               -0.183125\n",
      "KBA05_ANTG1              -0.189433\n",
      "FINANZ_MINIMALIST        -0.191033\n",
      "MOBI_REGIO               -0.205440\n",
      "Name: 0, Length: 199, dtype: float64\n"
     ]
    }
   ],
   "source": [
    "# Map weights for the first principal component to corresponding feature names\n",
    "# and then print the linked values, sorted by weight.\n",
    "# HINT: Try defining a function here or in a new cell that you can reuse in the\n",
    "# other cells.\n",
    "def print_pca_weights(pca, data, component):\n",
    "    df = pd.DataFrame(pca.components_, columns=data.columns.to_list())\n",
    "    weights = df.iloc[component].sort_values(ascending=False)\n",
    "    print(weights)\n",
    "\n",
    "print_pca_weights(pca_110, data, 0)"
   ]
  },
  {
   "cell_type": "code",
   "execution_count": 40,
   "metadata": {},
   "outputs": [
    {
     "name": "stdout",
     "output_type": "stream",
     "text": [
      "ALTERSKATEGORIE_GROB            0.233505\n",
      "FINANZ_VORSORGER                0.219008\n",
      "ZABEOTYP__3                     0.200969\n",
      "SEMIO_ERL                       0.180037\n",
      "SEMIO_LUST                      0.164127\n",
      "                                  ...   \n",
      "SEMIO_TRADV                    -0.208290\n",
      "SEMIO_REL                      -0.213704\n",
      "FINANZ_UNAUFFAELLIGER          -0.215742\n",
      "FINANZ_SPARER                  -0.227458\n",
      "PRAEGENDE_JUGENDJAHRE_decade   -0.238879\n",
      "Name: 1, Length: 199, dtype: float64\n"
     ]
    }
   ],
   "source": [
    "# Map weights for the second principal component to corresponding feature names\n",
    "# and then print the linked values, sorted by weight.\n",
    "print_pca_weights(pca_110, data, 1)"
   ]
  },
  {
   "cell_type": "code",
   "execution_count": 41,
   "metadata": {},
   "outputs": [
    {
     "name": "stdout",
     "output_type": "stream",
     "text": [
      "SEMIO_VERT      0.319015\n",
      "SEMIO_FAM       0.260955\n",
      "SEMIO_SOZ       0.257122\n",
      "SEMIO_KULT      0.251934\n",
      "FINANZTYP__5    0.134701\n",
      "                  ...   \n",
      "SEMIO_ERL      -0.208410\n",
      "SEMIO_KRIT     -0.266996\n",
      "SEMIO_DOM      -0.284093\n",
      "SEMIO_KAEM     -0.315604\n",
      "ANREDE_KZ      -0.345262\n",
      "Name: 2, Length: 199, dtype: float64\n"
     ]
    }
   ],
   "source": [
    "# Map weights for the third principal component to corresponding feature names\n",
    "# and then print the linked values, sorted by weight.\n",
    "print_pca_weights(pca_110, data, 2)\n"
   ]
  },
  {
   "cell_type": "markdown",
   "metadata": {},
   "source": [
    "### Discussion 2.3: Interpret Principal Components\n",
    "\n",
    "It is obvious that the first component is affected a lot by the financial situation of an individual and its household (LP_STATUS_GROB, HH_EINKOMMEN_SCORE, CAMEO_INTL_2015). The component is also affected positively if the individual lives in a cell with a lot of family houses (what indirectly is also reflecting its financial situation). On the other hand it is interesting to see, that the component is affected negatively by how the individual is spending his money (FINANZ_MINIMALIST)\n",
    "\n",
    "The second component is affected by the personality of an individual (SEMIO_xyz), positvely and negatively. And again, financial properties and the age. In this component we have several features that we marked as special because the distribution differs from within the datasets. The good thing is though, that the features that affects the component most (positively and negatively) are not marked as special.\n",
    "\n",
    "The third component is then affected heavily (in both directions, positive and negatively) by the personality. Here we have to be careful, because the semio features has been marked as special (see above), because their distribution was different in the cleaned dataset and the dataset with a lot of null values. For a later step, it would be recommended to double check this.\n"
   ]
  },
  {
   "cell_type": "markdown",
   "metadata": {},
   "source": [
    "## Step 3: Clustering\n",
    "\n",
    "### Step 3.1: Apply Clustering to General Population\n",
    "\n",
    "You've assessed and cleaned the demographics data, then scaled and transformed them. Now, it's time to see how the data clusters in the principal components space. In this substep, you will apply k-means clustering to the dataset and use the average within-cluster distances from each point to their assigned cluster's centroid to decide on a number of clusters to keep.\n",
    "\n",
    "- Use sklearn's [KMeans](http://scikit-learn.org/stable/modules/generated/sklearn.cluster.KMeans.html#sklearn.cluster.KMeans) class to perform k-means clustering on the PCA-transformed data.\n",
    "- Then, compute the average difference from each point to its assigned cluster's center. **Hint**: The KMeans object's `.score()` method might be useful here, but note that in sklearn, scores tend to be defined so that larger is better. Try applying it to a small, toy dataset, or use an internet search to help your understanding.\n",
    "- Perform the above two steps for a number of different cluster counts. You can then see how the average distance decreases with an increasing number of clusters. However, each additional cluster provides a smaller net benefit. Use this fact to select a final number of clusters in which to group the data. **Warning**: because of the large size of the dataset, it can take a long time for the algorithm to resolve. The more clusters to fit, the longer the algorithm will take. You should test for cluster counts through at least 10 clusters to get the full picture, but you shouldn't need to test for a number of clusters above about 30.\n",
    "- Once you've selected a final number of clusters to use, re-fit a KMeans instance to perform the clustering operation. Make sure that you also obtain the cluster assignments for the general demographics data, since you'll be using them in the final Step 3.3."
   ]
  },
  {
   "cell_type": "code",
   "execution_count": 42,
   "metadata": {},
   "outputs": [],
   "source": [
    "len_slice = int(features.shape[0]*0.2)\n",
    "indexes = np.random.choice(features.shape[0], size=len_slice, replace=False)\n",
    "features_slice = features[indexes]"
   ]
  },
  {
   "cell_type": "code",
   "execution_count": 43,
   "metadata": {},
   "outputs": [
    {
     "name": "stdout",
     "output_type": "stream",
     "text": [
      "Score for 3 clusters: 25572093.319153775\n",
      "Score for 4 clusters: 24972152.548203085\n",
      "Score for 5 clusters: 24499280.19209721\n",
      "Score for 6 clusters: 24206372.2762889\n",
      "Score for 7 clusters: 23948288.85389794\n",
      "Score for 8 clusters: 23711087.950774428\n",
      "Score for 9 clusters: 23516539.870682463\n",
      "Score for 10 clusters: 23256383.932054393\n",
      "Score for 11 clusters: 23076651.757809967\n",
      "Score for 12 clusters: 22958148.26374499\n",
      "Score for 13 clusters: 22750771.845731482\n",
      "Score for 14 clusters: 22718870.698734485\n",
      "Score for 15 clusters: 22525112.403440487\n",
      "Score for 16 clusters: 22359721.886018038\n",
      "Score for 17 clusters: 22196335.636615057\n",
      "Score for 18 clusters: 22095472.87684931\n",
      "Score for 19 clusters: 21945917.463899896\n",
      "Score for 20 clusters: 21814763.509966735\n",
      "Score for 21 clusters: 21768402.294186465\n",
      "Score for 22 clusters: 21650626.44051673\n",
      "Score for 23 clusters: 21512137.5746403\n",
      "Score for 24 clusters: 21319067.909693044\n",
      "Score for 25 clusters: 21278680.76167826\n",
      "Score for 26 clusters: 21214112.944250427\n",
      "Score for 27 clusters: 21062604.702144388\n",
      "Score for 28 clusters: 20908342.39275879\n",
      "Score for 29 clusters: 20794123.594567586\n",
      "Score for 30 clusters: 20666804.419182193\n"
     ]
    }
   ],
   "source": [
    "from sklearn.cluster import KMeans\n",
    "\n",
    "# Over a number of different cluster counts...\n",
    "scores = list()\n",
    "clusters = list(range(3,31))\n",
    "for k in clusters:\n",
    "    kmeans_k = KMeans(n_clusters=k)\n",
    "    model_k = kmeans_k.fit(features_slice)\n",
    "    score = np.abs(model_k.score(features_slice))\n",
    "    scores.append(score)\n",
    "    print(f\"Score for {k} clusters: {score}\")"
   ]
  },
  {
   "cell_type": "code",
   "execution_count": 44,
   "metadata": {},
   "outputs": [
    {
     "data": {
      "text/plain": [
       "Text(0, 0.5, 'score')"
      ]
     },
     "execution_count": 44,
     "metadata": {},
     "output_type": "execute_result"
    },
    {
     "data": {
      "image/png": "[encoded data removed]",
      "text/plain": [
       "<Figure size 432x288 with 1 Axes>"
      ]
     },
     "metadata": {
      "needs_background": "light"
     },
     "output_type": "display_data"
    }
   ],
   "source": [
    "# Investigate the change in within-cluster distance across number of clusters.\n",
    "# HINT: Use matplotlib's plot function to visualize this relationship.\n",
    "plt.plot(clusters, scores, linestyle='-', marker='o')\n",
    "plt.xlabel('number of clusters')\n",
    "plt.ylabel('score')"
   ]
  },
  {
   "cell_type": "code",
   "execution_count": 45,
   "metadata": {},
   "outputs": [],
   "source": [
    "# Re-fit the k-means model with the selected number of clusters and obtain\n",
    "# cluster predictions for the general population demographics data.\n",
    "kmeans = KMeans(n_clusters=19)\n",
    "model = kmeans.fit(features)\n",
    "general_prediction = model.predict(features)"
   ]
  },
  {
   "cell_type": "markdown",
   "metadata": {},
   "source": [
    "### Discussion 3.1: Apply Clustering to General Population\n",
    "\n",
    "From the figure an elbow is not clearly visible. There is almost a constant drop of the score. To not have to many clusters I choose to go for 19 clusters."
   ]
  },
  {
   "cell_type": "markdown",
   "metadata": {},
   "source": [
    "### Step 3.2: Apply All Steps to the Customer Data\n",
    "\n",
    "Now that you have clusters and cluster centers for the general population, it's time to see how the customer data maps on to those clusters. Take care to not confuse this for re-fitting all of the models to the customer data. Instead, you're going to use the fits from the general population to clean, transform, and cluster the customer data. In the last step of the project, you will interpret how the general population fits apply to the customer data.\n",
    "\n",
    "- Don't forget when loading in the customers data, that it is semicolon (`;`) delimited.\n",
    "- Apply the same feature wrangling, selection, and engineering steps to the customer demographics using the `clean_data()` function you created earlier. (You can assume that the customer demographics data has similar meaning behind missing data patterns as the general demographics data.)\n",
    "- Use the sklearn objects from the general demographics data, and apply their transformations to the customers data. That is, you should not be using a `.fit()` or `.fit_transform()` method to re-fit the old objects, nor should you be creating new sklearn objects! Carry the data through the feature scaling, PCA, and clustering steps, obtaining cluster assignments for all of the data in the customer demographics data."
   ]
  },
  {
   "cell_type": "code",
   "execution_count": 46,
   "metadata": {},
   "outputs": [],
   "source": [
    "# Load in the customer demographics data.\n",
    "customers = pd.read_csv('Udacity_CUSTOMERS_Subset.csv', sep=';')\n",
    "\n",
    "# Reload Feat_info (was changed before)\n",
    "feat_info = pd.read_csv('AZDIAS_Feature_Summary.csv', delimiter=';')"
   ]
  },
  {
   "cell_type": "code",
   "execution_count": 47,
   "metadata": {},
   "outputs": [],
   "source": [
    "# Apply preprocessing, feature transformation, and clustering from the general\n",
    "# demographics onto the customer data, obtaining cluster predictions for the\n",
    "# customer demographics data.\n",
    "customers_cleaned = clean_data(customers, feat_info)\n",
    "customers_imputer = imputer.transform(customers_cleaned)\n",
    "customers_normalize = scaler.transform(customers_imputer)\n",
    "customers_features = pca_110.transform(customers_normalize)\n",
    "customer_pred = model.predict(customers_features)"
   ]
  },
  {
   "cell_type": "markdown",
   "metadata": {},
   "source": [
    "### Step 3.3: Compare Customer Data to Demographics Data\n",
    "\n",
    "At this point, you have clustered data based on demographics of the general population of Germany, and seen how the customer data for a mail-order sales company maps onto those demographic clusters. In this final substep, you will compare the two cluster distributions to see where the strongest customer base for the company is.\n",
    "\n",
    "Consider the proportion of persons in each cluster for the general population, and the proportions for the customers. If we think the company's customer base to be universal, then the cluster assignment proportions should be fairly similar between the two. If there are only particular segments of the population that are interested in the company's products, then we should see a mismatch from one to the other. If there is a higher proportion of persons in a cluster for the customer data compared to the general population (e.g. 5% of persons are assigned to a cluster for the general population, but 15% of the customer data is closest to that cluster's centroid) then that suggests the people in that cluster to be a target audience for the company. On the other hand, the proportion of the data in a cluster being larger in the general population than the customer data (e.g. only 2% of customers closest to a population centroid that captures 6% of the data) suggests that group of persons to be outside of the target demographics.\n",
    "\n",
    "Take a look at the following points in this step:\n",
    "\n",
    "- Compute the proportion of data points in each cluster for the general population and the customer data. Visualizations will be useful here: both for the individual dataset proportions, but also to visualize the ratios in cluster representation between groups. Seaborn's [`countplot()`](https://seaborn.pydata.org/generated/seaborn.countplot.html) or [`barplot()`](https://seaborn.pydata.org/generated/seaborn.barplot.html) function could be handy.\n",
    "  - Recall the analysis you performed in step 1.1.3 of the project, where you separated out certain data points from the dataset if they had more than a specified threshold of missing values. If you found that this group was qualitatively different from the main bulk of the data, you should treat this as an additional data cluster in this analysis. Make sure that you account for the number of data points in this subset, for both the general population and customer datasets, when making your computations!\n",
    "- Which cluster or clusters are overrepresented in the customer dataset compared to the general population? Select at least one such cluster and infer what kind of people might be represented by that cluster. Use the principal component interpretations from step 2.3 or look at additional components to help you make this inference. Alternatively, you can use the `.inverse_transform()` method of the PCA and StandardScaler objects to transform centroids back to the original data space and interpret the retrieved values directly.\n",
    "- Perform a similar investigation for the underrepresented clusters. Which cluster or clusters are underrepresented in the customer dataset compared to the general population, and what kinds of people are typified by these clusters?"
   ]
  },
  {
   "cell_type": "code",
   "execution_count": 48,
   "metadata": {},
   "outputs": [
    {
     "data": {
      "image/png": "[encoded data removed]",
      "text/plain": [
       "<Figure size 864x360 with 1 Axes>"
      ]
     },
     "metadata": {
      "needs_background": "light"
     },
     "output_type": "display_data"
    }
   ],
   "source": [
    "# Compare the proportion of data in each cluster for the customer data to the\n",
    "# proportion of data in each cluster for the general population.\n",
    "# general_prediction customer_pred\n",
    "\n",
    "general_prop = pd.Series(general_prediction).value_counts(normalize=True, ascending=True, sort=False)\n",
    "general_data = {\n",
    "    'prop': general_prop,\n",
    "    'type': 'general'\n",
    "}\n",
    "general_df = pd.DataFrame(general_data)\n",
    "\n",
    "customer_prop = pd.Series(customer_pred).value_counts(normalize=True, ascending=True, sort=False)\n",
    "customer_data = {\n",
    "    'prop': customer_prop,\n",
    "    'type': 'customer'\n",
    "}\n",
    "customer_df = pd.DataFrame(customer_data)\n",
    "overall_df = pd.concat([general_df, customer_df])\n",
    "\n",
    "fig, ax = plt.subplots(figsize=(12,5))\n",
    "ax = sns.barplot(x=overall_df.index, y=\"prop\", hue=\"type\", data=overall_df)"
   ]
  },
  {
   "cell_type": "code",
   "execution_count": 64,
   "metadata": {},
   "outputs": [
    {
     "data": {
      "text/plain": [
       "13   -0.219738\n",
       "10   -0.066210\n",
       "14   -0.056151\n",
       "7    -0.028600\n",
       "15   -0.027160\n",
       "16   -0.004826\n",
       "1    -0.002413\n",
       "0    -0.001814\n",
       "4     0.000341\n",
       "8     0.001205\n",
       "12    0.010674\n",
       "9     0.013071\n",
       "5     0.024358\n",
       "11    0.035032\n",
       "3     0.036394\n",
       "6     0.047765\n",
       "18    0.066605\n",
       "17    0.070003\n",
       "2     0.101466\n",
       "dtype: float64"
      ]
     },
     "execution_count": 64,
     "metadata": {},
     "output_type": "execute_result"
    }
   ],
   "source": [
    "prop_diff = general_prop - customer_prop\n",
    "prop_diff.sort_values()"
   ]
  },
  {
   "cell_type": "code",
   "execution_count": 65,
   "metadata": {},
   "outputs": [],
   "source": [
    "features_to_examine = [\"ALTERSKATEGORIE_GROB\", \"PRAEGENDE_JUGENDJAHRE_decade\", \"HH_EINKOMMEN_SCORE\", \"CAMEO_INTL_2015_wealth\", \"CJT_GESAMTTYP__3.0\", \"CJT_GESAMTTYP__4.0\", \"ONLINE_AFFINITAET\"]\n",
    "\n",
    "def examine_cluster(cluster_id, features):\n",
    "    cluster_k = scaler.inverse_transform(pca_110.inverse_transform(model.cluster_centers_[cluster_id]))\n",
    "    features_overrepresented = pd.Series(data = cluster_k, index = customers_cleaned.columns)\n",
    "\n",
    "    for feat in features_to_examine:\n",
    "        print(f\"{feat}: {features_overrepresented[feat]}\")"
   ]
  },
  {
   "cell_type": "code",
   "execution_count": 66,
   "metadata": {},
   "outputs": [
    {
     "name": "stdout",
     "output_type": "stream",
     "text": [
      "ALTERSKATEGORIE_GROB: 3.330416424277619\n",
      "PRAEGENDE_JUGENDJAHRE_decade: 65.70697820520742\n",
      "HH_EINKOMMEN_SCORE: 2.463988539927351\n",
      "CAMEO_INTL_2015_wealth: 2.135929183875276\n",
      "CJT_GESAMTTYP__3.0: 0.16775499051964282\n",
      "CJT_GESAMTTYP__4.0: 0.1930695848646288\n",
      "ONLINE_AFFINITAET: 3.0868995123406884\n"
     ]
    }
   ],
   "source": [
    "# What kinds of people are part of a cluster that is overrepresented in the\n",
    "# customer data compared to the general population?\n",
    "# Look at cluster 13, largest customer cluster, largest difference (overrepresentation) with general population\n",
    "examine_cluster(13, features_to_examine)"
   ]
  },
  {
   "cell_type": "code",
   "execution_count": 67,
   "metadata": {},
   "outputs": [
    {
     "name": "stdout",
     "output_type": "stream",
     "text": [
      "ALTERSKATEGORIE_GROB: 3.268731455875439\n",
      "PRAEGENDE_JUGENDJAHRE_decade: 66.19949414391043\n",
      "HH_EINKOMMEN_SCORE: 3.733196692430054\n",
      "CAMEO_INTL_2015_wealth: 2.529527994291524\n",
      "CJT_GESAMTTYP__3.0: 0.20261929417394883\n",
      "CJT_GESAMTTYP__4.0: 0.19160576670736262\n",
      "ONLINE_AFFINITAET: 2.661160952535884\n"
     ]
    }
   ],
   "source": [
    "# Look at cluster 14, second largest customer cluster, third most difference with general population\n",
    "examine_cluster(14, features_to_examine)"
   ]
  },
  {
   "cell_type": "code",
   "execution_count": 68,
   "metadata": {},
   "outputs": [
    {
     "name": "stdout",
     "output_type": "stream",
     "text": [
      "ALTERSKATEGORIE_GROB: 1.807150365821757\n",
      "PRAEGENDE_JUGENDJAHRE_decade: 85.42340615305011\n",
      "HH_EINKOMMEN_SCORE: 5.658837920391788\n",
      "CAMEO_INTL_2015_wealth: 4.383177282837852\n",
      "CJT_GESAMTTYP__3.0: 0.2138742212947517\n",
      "CJT_GESAMTTYP__4.0: 0.21590969351148917\n",
      "ONLINE_AFFINITAET: 2.853047199899468\n"
     ]
    }
   ],
   "source": [
    "# What kinds of people are part of a cluster that is underrepresented in the\n",
    "# customer data compared to the general population?\n",
    "examine_cluster(2, features_to_examine)\n"
   ]
  },
  {
   "cell_type": "markdown",
   "metadata": {},
   "source": [
    "### Discussion 3.3: Compare Customer Data to Demographics Data\n",
    "\n",
    "I compared a overrepresented and a underrepresented cluster with each other, regarding some e-commerce related features:\n",
    "- Age (ALTERSKATEGORIE_GROB, PRAEGENDE_JUGENDJAHRE_decade)\n",
    "- Financial status (HH_EINKOMMEN_SCORE, CAMEO_INTL_2015_wealth)\n",
    "- Online (advertising) affinity (CJT_GESAMTTYP__3.0, CJT_GESAMTTYP__4.0, ONLINE_AFFINITAET)\n",
    "\n",
    "It can be stated, that the overrepresented cluster is older (older than 50 years). The underrepresented cluster has younger people in it (around 35 years).\n",
    "\n",
    "The people in the overrepresented cluster have a high income, whereas the people in the underrepresented cluster have a average financial situation. Therefore the typical customer has more money to spend than the overall population.\n",
    "\n",
    "From a online affinity and advertising interested point of view, it is interesting to see that the two clusters are very similar.\n",
    "\n",
    "To get better insights into the customer base, i looked into cluster 14 as well (second when it comes to absolute customers, but also with the third most difference between customer proportion and overall proportion). Here we can see, that this group is as old as cluster 13 and not as economically powerful. \n",
    "\n",
    "It would be a good mid term advice for the company to invest in a campaign to attract younger customers, that have a high online affinity. From a short term perspective the current typical customer older and has a more financial capabilities than the average.\n"
   ]
  },
  {
   "cell_type": "markdown",
   "metadata": {},
   "source": [
    "> Congratulations on making it this far in the project! Before you finish, make sure to check through the entire notebook from top to bottom to make sure that your analysis follows a logical flow and all of your findings are documented in **Discussion** cells. Once you've checked over all of your work, you should export the notebook as an HTML document to submit for evaluation. You can do this from the menu, navigating to **File -> Download as -> HTML (.html)**. You will submit both that document and this notebook for your project submission."
   ]
  },
  {
   "cell_type": "code",
   "execution_count": null,
   "metadata": {},
   "outputs": [],
   "source": []
  }
 ],
 "metadata": {
  "kernelspec": {
   "display_name": "Python 3",
   "language": "python",
   "name": "python3"
  },
  "language_info": {
   "codemirror_mode": {
    "name": "ipython",
    "version": 3
   },
   "file_extension": ".py",
   "mimetype": "text/x-python",
   "name": "python",
   "nbconvert_exporter": "python",
   "pygments_lexer": "ipython3",
   "version": "3.8.8"
  }
 },
 "nbformat": 4,
 "nbformat_minor": 2
}
